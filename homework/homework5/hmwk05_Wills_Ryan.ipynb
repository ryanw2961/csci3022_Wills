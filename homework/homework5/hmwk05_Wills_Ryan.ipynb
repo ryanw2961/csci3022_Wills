{
 "cells": [
  {
   "cell_type": "markdown",
   "metadata": {},
   "source": [
    "<a id='top'></a>\n",
    "\n",
    "# Homework 5: Confidence intervals and other things\n",
    "***\n",
    "\n",
    "**Name**: Ryan Wills\n",
    "\n",
    "***\n",
    "\n",
    "This assignment is due on Moodle by **5 PM on Friday November 9**. Your solutions to theoretical questions should be done in Markdown/MathJax directly below the associated question.  Your solutions to computational questions should include any specified Python code and results as well as written commentary on your conclusions.  Remember that you are encouraged to discuss the problems with your instructors and classmates, but **you must write all code and solutions on your own**.  \n",
    "\n",
    "**NOTES**: \n",
    "\n",
    "- Do **NOT** load or use any Python packages that are not available in Anaconda 3.6. \n",
    "- Some problems with code may be autograded.  If we provide a function API **do not** change it.  If we do not provide a function API then you're free to structure your code however you like. \n",
    "- Because you can technically evaluate notebook cells is a non-linear order, it's a good idea to do Cell $\\rightarrow$ Run All as a check before submitting your solutions.  That way if we need to run your code you will know that it will work as expected. \n",
    "- Submit only this Jupyter notebook to Moodle.  Do not compress it using tar, rar, zip, etc. \n",
    "- This should go without saying, but... For any question that asks you to calculate something, you **must show all work to receive credit**. Sparse or nonexistent work will receive sparse or nonexistent credit.\n",
    "\n",
    "---\n",
    "**Shortcuts:**  [Problem 1](#p1) | [Problem 2](#p2) | [Problem 3](#p3) | [Problem 4](#p4)\n",
    "\n",
    "---"
   ]
  },
  {
   "cell_type": "code",
   "execution_count": 1,
   "metadata": {
    "collapsed": true,
    "scrolled": true
   },
   "outputs": [],
   "source": [
    "import numpy as np\n",
    "import matplotlib.pyplot as plt\n",
    "import pandas as pd\n",
    "import scipy.stats as stats\n",
    "%matplotlib inline"
   ]
  },
  {
   "cell_type": "markdown",
   "metadata": {},
   "source": [
    "---\n",
    "\n",
    "<a id='p1'></a>\n",
    "[Back to top](#top)\n",
    "\n",
    "### [30 points] Problem 1 - Sea-level rise, schmee-level rise!\n",
    "\n",
    "You have been contacted by the local government of Key West, Florida, to assess whether there is statistical evidence for sea-level rise in the area. You obtain from the University of Hawaii Sea Level Center's [gigantic repository of sea-level data](https://uhslc.soest.hawaii.edu/data/?rq) the daily mean sea levels file [linked here](https://piazza.com/class_profile/get_resource/jhaqogsdelf76h/jixzm0rl5dp6y4) and below.\n",
    "\n",
    "In this problem, you will:\n",
    "1. practice calculating confidence intervals, \n",
    "1. practice wrangling a real-life data set into a form where you can actually compute these confidence intervals, because life will rarely be so kind as to simply hand you a nicely packaged and cleaned set of data, and\n",
    "1. save Key West from a watery fate?"
   ]
  },
  {
   "cell_type": "code",
   "execution_count": 2,
   "metadata": {},
   "outputs": [
    {
     "data": {
      "text/html": [
       "<div>\n",
       "<style>\n",
       "    .dataframe thead tr:only-child th {\n",
       "        text-align: right;\n",
       "    }\n",
       "\n",
       "    .dataframe thead th {\n",
       "        text-align: left;\n",
       "    }\n",
       "\n",
       "    .dataframe tbody tr th {\n",
       "        vertical-align: top;\n",
       "    }\n",
       "</style>\n",
       "<table border=\"1\" class=\"dataframe\">\n",
       "  <thead>\n",
       "    <tr style=\"text-align: right;\">\n",
       "      <th></th>\n",
       "      <th>Year</th>\n",
       "      <th>Month</th>\n",
       "      <th>Day</th>\n",
       "      <th>SL</th>\n",
       "    </tr>\n",
       "  </thead>\n",
       "  <tbody>\n",
       "    <tr>\n",
       "      <th>0</th>\n",
       "      <td>1913</td>\n",
       "      <td>1</td>\n",
       "      <td>20</td>\n",
       "      <td>1453</td>\n",
       "    </tr>\n",
       "    <tr>\n",
       "      <th>1</th>\n",
       "      <td>1913</td>\n",
       "      <td>1</td>\n",
       "      <td>21</td>\n",
       "      <td>1439</td>\n",
       "    </tr>\n",
       "    <tr>\n",
       "      <th>2</th>\n",
       "      <td>1913</td>\n",
       "      <td>1</td>\n",
       "      <td>22</td>\n",
       "      <td>1444</td>\n",
       "    </tr>\n",
       "    <tr>\n",
       "      <th>3</th>\n",
       "      <td>1913</td>\n",
       "      <td>1</td>\n",
       "      <td>23</td>\n",
       "      <td>1489</td>\n",
       "    </tr>\n",
       "    <tr>\n",
       "      <th>4</th>\n",
       "      <td>1913</td>\n",
       "      <td>1</td>\n",
       "      <td>24</td>\n",
       "      <td>1474</td>\n",
       "    </tr>\n",
       "  </tbody>\n",
       "</table>\n",
       "</div>"
      ],
      "text/plain": [
       "   Year  Month  Day    SL\n",
       "0  1913      1   20  1453\n",
       "1  1913      1   21  1439\n",
       "2  1913      1   22  1444\n",
       "3  1913      1   23  1489\n",
       "4  1913      1   24  1474"
      ]
     },
     "execution_count": 2,
     "metadata": {},
     "output_type": "execute_result"
    }
   ],
   "source": [
    "# Local and web paths to the data; pick which works for you.\n",
    "local_path = \"data/sealevel_keywest.csv\"\n",
    "web_path   = \"https://raw.githubusercontent.com/dblarremore/csci3022/master/homework/homework5/data/sealevel_keywest.csv\"\n",
    "file_path  = local_path\n",
    "\n",
    "dfSL = pd.read_csv(file_path, header=None)\n",
    "dfSL.rename(columns={0 : 'Year', 1 : 'Month', 2 : 'Day', 3 : 'SL'}, inplace=True)\n",
    "dfSL.head()"
   ]
  },
  {
   "cell_type": "markdown",
   "metadata": {},
   "source": [
    "**Part A:**  Write a function `clean_data` to:\n",
    "1. take in a single argument of a raw sea level data frame (e.g., `dfSL` above),\n",
    "2. compute the fill-value used to replace missing sea level (SL) data (**not** hard-coded!),\n",
    "3. use the Pandas `DataFrame.dropna` method to remove all missing rows of data, \n",
    "4. select only the data point on the second day of each month, and\n",
    "4. return a cleaned Pandas data frame.\n",
    "\n",
    "Use your shiny new function to clean the `dfSL` data frame and save the results in a new data frame.\n",
    "\n",
    "There is a very specific reason to sample only one daily data point per month. We will talk about it later."
   ]
  },
  {
   "cell_type": "code",
   "execution_count": 58,
   "metadata": {},
   "outputs": [
    {
     "data": {
      "text/html": [
       "<div>\n",
       "<style>\n",
       "    .dataframe thead tr:only-child th {\n",
       "        text-align: right;\n",
       "    }\n",
       "\n",
       "    .dataframe thead th {\n",
       "        text-align: left;\n",
       "    }\n",
       "\n",
       "    .dataframe tbody tr th {\n",
       "        vertical-align: top;\n",
       "    }\n",
       "</style>\n",
       "<table border=\"1\" class=\"dataframe\">\n",
       "  <thead>\n",
       "    <tr style=\"text-align: right;\">\n",
       "      <th></th>\n",
       "      <th>Year</th>\n",
       "      <th>Month</th>\n",
       "      <th>Day</th>\n",
       "      <th>SL</th>\n",
       "    </tr>\n",
       "  </thead>\n",
       "  <tbody>\n",
       "    <tr>\n",
       "      <th>13</th>\n",
       "      <td>1913</td>\n",
       "      <td>2</td>\n",
       "      <td>2</td>\n",
       "      <td>1409</td>\n",
       "    </tr>\n",
       "    <tr>\n",
       "      <th>41</th>\n",
       "      <td>1913</td>\n",
       "      <td>3</td>\n",
       "      <td>2</td>\n",
       "      <td>1397</td>\n",
       "    </tr>\n",
       "    <tr>\n",
       "      <th>72</th>\n",
       "      <td>1913</td>\n",
       "      <td>4</td>\n",
       "      <td>2</td>\n",
       "      <td>1402</td>\n",
       "    </tr>\n",
       "    <tr>\n",
       "      <th>102</th>\n",
       "      <td>1913</td>\n",
       "      <td>5</td>\n",
       "      <td>2</td>\n",
       "      <td>1450</td>\n",
       "    </tr>\n",
       "    <tr>\n",
       "      <th>133</th>\n",
       "      <td>1913</td>\n",
       "      <td>6</td>\n",
       "      <td>2</td>\n",
       "      <td>1490</td>\n",
       "    </tr>\n",
       "  </tbody>\n",
       "</table>\n",
       "</div>"
      ],
      "text/plain": [
       "     Year  Month  Day    SL\n",
       "13   1913      2    2  1409\n",
       "41   1913      3    2  1397\n",
       "72   1913      4    2  1402\n",
       "102  1913      5    2  1450\n",
       "133  1913      6    2  1490"
      ]
     },
     "execution_count": 58,
     "metadata": {},
     "output_type": "execute_result"
    }
   ],
   "source": [
    "def clean_data(df):\n",
    "    \n",
    "    # compute fill-value used to replace missing SL data\n",
    "        #according to website, fill value for missing data = 9999 or -9999\n",
    "    \n",
    "    #use pandas DataFrame.dropna() to remove missing rows\n",
    "    df=df.drop(df[df.SL >= 9999].index)\n",
    "    df=df.drop(df[df.SL <= -9999].index)\n",
    "\n",
    "    #select only the data point on the second day of each month\n",
    "    df = df.loc[df['Day'] == 2]\n",
    "    \n",
    "    #return a cleaned df\n",
    "    dfClean = df\n",
    "    return dfClean\n",
    "\n",
    "dfClean = clean_data(dfSL)\n",
    "dfClean.head()"
   ]
  },
  {
   "cell_type": "markdown",
   "metadata": {},
   "source": [
    "**Part B:**  Plot the cleaned time series of sea levels. Be sure to label your axes, including units. The UHSLC data portal includes a link to the metadata accompanying our data set; if you are not sure about units, that would be a good place to start looking. For the $x$-axis, place the $x$ tick marks on January 2 of each year that is divisible by 10 (i.e., 1920, 1930, ...), and label with that year. You may need to do additional processing in order to grab these indices. \n",
    "\n",
    "**Bonus challenge (0 points):**  Why do we choose to work with the second day of each month instead of the first?  You may need to look at the original data set to answer this."
   ]
  },
  {
   "cell_type": "code",
   "execution_count": 152,
   "metadata": {},
   "outputs": [
    {
     "data": {
      "image/png": "[encoded data removed]",
      "text/plain": [
       "<matplotlib.figure.Figure at 0x1a247b3f28>"
      ]
     },
     "metadata": {},
     "output_type": "display_data"
    }
   ],
   "source": [
    "plotYear = dfClean.loc[dfClean['Month']==1]\n",
    "\n",
    "fig,ax = plt.subplots(1,1,figsize = (10,6))\n",
    "ax.plot(plotYear['Year'],plotYear['SL'])\n",
    "ax.set_xlabel(\"Year\", fontsize=16)\n",
    "ax.set_ylabel(\"Sea Level in Millimeters\", fontsize=16)\n",
    "ax.set_title(\"Key West Sea Level Over Time\",fontsize = 20)\n",
    "_ = ax.set_xticks([1920,1930,1940,1950,1960,1970,1980,1990,2000,2010,2020])"
   ]
  },
  {
   "cell_type": "code",
   "execution_count": null,
   "metadata": {
    "collapsed": true
   },
   "outputs": [],
   "source": []
  },
  {
   "cell_type": "markdown",
   "metadata": {},
   "source": [
    "**Part C:** Use your cleaned sea levels data frame to create two new Pandas data frames or series:\n",
    "1. one object to contain the sea levels between (and including) the years 1986 and 1995, and\n",
    "2. another object to contain the sea levels between (and including) the years 2006 and 2015.\n",
    "\n",
    "Then, create a single-panel figure that includes density histograms of each decade of sea levels. Be sure to label everything appropriately.\n",
    "\n",
    "Finally, based on the data in front of you, formulate and state a hypothesis about how the mean sea level in the decade 2006-2015 compares to the mean sea level in the decade 1986-1995."
   ]
  },
  {
   "cell_type": "code",
   "execution_count": 96,
   "metadata": {},
   "outputs": [
    {
     "data": {
      "text/plain": [
       "<matplotlib.legend.Legend at 0x1a24394048>"
      ]
     },
     "execution_count": 96,
     "metadata": {},
     "output_type": "execute_result"
    },
    {
     "data": {
      "image/png": "[encoded data removed]",
      "text/plain": [
       "<matplotlib.figure.Figure at 0x1a24004198>"
      ]
     },
     "metadata": {},
     "output_type": "display_data"
    }
   ],
   "source": [
    "df86_95 = dfClean[dfClean['Year'].between(1986,1995)]\n",
    "df86_95 = df86_95.drop(['Month','Day'], axis = 1)\n",
    "\n",
    "df06_15 = dfClean[dfClean['Year'].between(2006,2015)]\n",
    "df06_15 = df06_15.drop(['Month', 'Day'], axis = 1)\n",
    "\n",
    "fig, ax = plt.subplots(1,1, figsize=(10,6))\n",
    "df06_15['SL'].hist(ax=ax, edgecolor = 'black', color = 'green', label = '2006-2015')\n",
    "df86_95['SL'].hist(ax=ax, edgecolor = 'black', alpha = 0.9, label = '1986-1995')\n",
    "\n",
    "ax.set_title('Sea Level Comparison, Key West', fontsize = 20)\n",
    "ax.set_xlabel('Sea Level Depth (mm)', fontsize = 16)\n",
    "ax.set_ylabel('Frequency', fontsize =16)\n",
    "ax.grid(alpha = .5)\n",
    "ax.legend()"
   ]
  },
  {
   "cell_type": "markdown",
   "metadata": {},
   "source": [
    "Based off of the graphs, the sea level from 2006-2015 has more frequent measurements of a deeper sea level, so I hypothesize that the mean sea level for that time period will be higher than the mean sea level from 1986-1995."
   ]
  },
  {
   "cell_type": "markdown",
   "metadata": {},
   "source": [
    "**Part D:** Compute a 99.9% confidence interval for each of (1) the mean sea level in the 1986-1995 decade ($\\mu_{1986-1995}$) and (2) the mean sea level in the 2006-2015 decade ($\\mu_{2006-2015}$).  You may use Python for arithmetic operations and executing the calculations, but the relevant steps/set-up should be displayed in Markdown/MathJax.\n",
    "\n",
    "Based on these two confidence intervals, do you think there is sufficient evidence to conclude that there is or is not a significant difference in the mean sea level between 1986-1995 and 2006-2015? Justify your answer. "
   ]
  },
  {
   "cell_type": "code",
   "execution_count": 118,
   "metadata": {},
   "outputs": [
    {
     "name": "stdout",
     "output_type": "stream",
     "text": [
      "The 99.9% confidence interval for the mean sea level from 1986-1995 is  [1640.9854979907739, 1700.1645020092262]\n"
     ]
    }
   ],
   "source": [
    "import math\n",
    "sample_mean = df86_95['SL'].mean()\n",
    "std_dev = df86_95['SL'].std()\n",
    "z_alpha = stats.norm.ppf(.9995)\n",
    "n = len(df86_95)\n",
    "confidence_interval = []\n",
    "confidence_interval.append(sample_mean - z_alpha * (std_dev/math.sqrt(n)))\n",
    "confidence_interval.append(sample_mean + z_alpha * (std_dev/math.sqrt(n)))\n",
    "print(\"The 99.9% confidence interval for the mean sea level from 1986-1995 is \", confidence_interval)"
   ]
  },
  {
   "cell_type": "code",
   "execution_count": 102,
   "metadata": {},
   "outputs": [
    {
     "name": "stdout",
     "output_type": "stream",
     "text": [
      "The 99.9% confidence interval for the mean sea level from 2006-2015 is  [1687.4087192569768, 1753.9472129464129]\n",
      "33.2692468447\n"
     ]
    }
   ],
   "source": [
    "sample_mean = df06_15['SL'].mean()\n",
    "std_dev = df06_15['SL'].std()\n",
    "z_alpha = stats.norm.ppf(.9995)\n",
    "n = len(df06_15)\n",
    "confidence_interval = []\n",
    "confidence_interval.append(sample_mean - z_alpha * (std_dev/math.sqrt(n)))\n",
    "confidence_interval.append(sample_mean + z_alpha * (std_dev/math.sqrt(n)))\n",
    "print(\"The 99.9% confidence interval for the mean sea level from 2006-2015 is \", confidence_interval)\n",
    "print(z_alpha * (std_dev/math.sqrt(n)))"
   ]
  },
  {
   "cell_type": "markdown",
   "metadata": {},
   "source": [
    "In order to find the confidence intervals of these two time periods, I need to find the relevant information first. Using the '86-'95 data first, the sample mean of the sea level was 1670.575. Between 1986 and 1995, there were 120 measurements taken, one for each month of the 10 years. The standard deviation of sea level was 98.506 mm. After finding all of that information, it is then just a matter of plugging into the formula for finding a confidence interval.  \n",
    "$\\displaystyle CI = \\bar{X} \\pm z_{\\alpha/2}\\left(\\frac{\\sigma}{\\sqrt{n}}\\right)$  \n",
    "$\\displaystyle CI = 1670.575 \\pm 3.29 \\left(\\frac{98.506}{\\sqrt{120}}\\right)$  \n",
    "$\\displaystyle = 1670.575 \\pm 29.5895 = [1640.9855, 1700.1645]$  \n",
    "\n",
    "The process is exactly the same with the sea level data from 2006-2015.  \n",
    "$\\displaystyle CI = \\bar{X} \\pm z_{\\alpha/2}\\left(\\frac{\\sigma}{\\sqrt{n}}\\right)$  \n",
    "$\\displaystyle CI = 1720.6779 \\pm 3.29 \\left(\\frac{109.829}{\\sqrt{118}}\\right)$  \n",
    "$\\displaystyle = 1720.6779 \\pm 33.2692 \\approx [1687.4087, 1753.9471]$ "
   ]
  },
  {
   "cell_type": "markdown",
   "metadata": {},
   "source": [
    "I would say that based off of these confidence intervals, there is not enough sufficent evidence that the sea levels have changed. Obviously the latter data set has a higher interval, but there is overlap between the intervals, and it is possible that the true mean is within that overlap. I think that there is an increase in sea levels, but I don't think the evidence is sufficient enough."
   ]
  },
  {
   "cell_type": "markdown",
   "metadata": {},
   "source": [
    "**Part E:**  Compute a 99.9% confidence interval for the ***difference in mean sea level*** between the 2006-2015 and the 1986-1995 decades ($\\mu_{2006-2015} - \\mu_{1986-1995}$. Based on this, make a conclusion regarding your hypothesis from **Part C**, and compare to what your results in **Part D** implied. You may use Python for arithmetic operations and executing the calculations, but the relevant steps/set-up should be displayed in Markdown/MathJax."
   ]
  },
  {
   "cell_type": "markdown",
   "metadata": {},
   "source": [
    "In order to find the difference in mean sea level, I need to first find the difference in sample means, $\\bar{X}-\\bar{Y} = 1720.6679 - 1670.575 = 50.0929$. I then use the same information from above and plug that into the formula.  \n",
    "\n",
    "$\\displaystyle CI = \\bar{X}-\\bar{Y} \\pm z_{\\alpha/2} SD$, where $\\displaystyle SD = \\sqrt{\\frac{\\sigma_{1}^2}{m}+\\frac{\\sigma_{2}^2}{n}}$  \n",
    "$\\displaystyle \\bar{X}-\\bar{Y} = 50.0929$ $\\sigma_1 = 109.829$ $m = 118$  \n",
    "$\\sigma_2 = 98.506$ $n = 120$  \n",
    "$\\displaystyle CI = 50.0929 \\pm 3.29 \\sqrt{\\frac{(109.829)^2}{118}+\\frac{(98.506)^2}{120}}$  \n",
    "$\\displaystyle CI = 50.0929 \\pm 44.5239 \\approx [5.5790, 94.6269]$"
   ]
  },
  {
   "cell_type": "code",
   "execution_count": 129,
   "metadata": {},
   "outputs": [
    {
     "name": "stdout",
     "output_type": "stream",
     "text": [
      "[5.579024061835284, 94.626908141554409]\n"
     ]
    }
   ],
   "source": [
    "dif_mean = df06_15['SL'].mean() - df86_95['SL'].mean()\n",
    "\n",
    "std_dev_86_95 = df86_95['SL'].std()\n",
    "std_dev_86_95_squared = (std_dev_86_95)**2\n",
    "\n",
    "std_dev_06_15 = df06_15['SL'].std()\n",
    "std_dev_06_15_squared = (std_dev_06_15)**2\n",
    "\n",
    "z_alpha = stats.norm.ppf(.9995)\n",
    "n = len(df86_95)\n",
    "m = len(df06_15)\n",
    "\n",
    "confidence_interval_dif = []\n",
    "\n",
    "confidence_interval_dif.append(dif_mean - z_alpha * (math.sqrt( ((std_dev_06_15_squared)/m) + ((std_dev_86_95_squared)/n) )))\n",
    "confidence_interval_dif.append(dif_mean + z_alpha * (math.sqrt( ((std_dev_06_15_squared)/m) + ((std_dev_86_95_squared)/n) )))\n",
    "print(confidence_interval_dif)"
   ]
  },
  {
   "cell_type": "markdown",
   "metadata": {},
   "source": [
    "Based off of this information, there is definitely an increase in the sea level. Since the interval of the difference in means is positive, then that would confirm my hypothesis from **Part C** and gives more support to the implied results in **Part D**. "
   ]
  },
  {
   "cell_type": "markdown",
   "metadata": {},
   "source": [
    "**Part F:**  The confidence intervals from **Parts D** and **E** were derived using the Central Limit Theorem.  Which assumption of the Central Limit Theorem would likely be violated if we took more than one measurement per month to form our samples, and why?"
   ]
  },
  {
   "cell_type": "markdown",
   "metadata": {},
   "source": [
    "By taking more than one measurement a month, it violates the assumption that all of the data points are independent of one another. Since weather on one day is very similar to the weather the previous day (unless you live in Colorado where you can have 70 degree weather and snow on sequential days), it would not make them independent. However, by taking one measurment per month, enough time has passed to assume the measurments are independent."
   ]
  },
  {
   "cell_type": "markdown",
   "metadata": {},
   "source": [
    "---\n",
    "\n",
    "<a id='p2'></a>\n",
    "[Back to top](#top)\n",
    "\n",
    "### [25 points] Problem 2 - Quality of Red vs White Wine \n",
    "\n",
    "**Part A:** Load the data in [`winequalityred.csv`](https://piazza.com/class_profile/get_resource/jhaqogsdelf76h/jixzm1ebc6q6ye) and [`winequalitywhite.csv`](https://piazza.com/class_profile/get_resource/jhaqogsdelf76h/jixzm17x9pu6y9) into Pandas DataFrames.  They are available under Resources on Piazza, and linked here and below.  A description of this dataset can be found on [UC Irvine's Machine Learning Repository](https://archive.ics.uci.edu/ml/datasets/Wine+Quality). The quantity of interest for this problem is the quality of the wine.\n",
    "\n",
    "Are we justified in using the Central Limit Theorem in our analysis of estimates of the mean and proportions of the data?  Justify your response. "
   ]
  },
  {
   "cell_type": "code",
   "execution_count": 7,
   "metadata": {},
   "outputs": [
    {
     "data": {
      "text/html": [
       "<div>\n",
       "<style>\n",
       "    .dataframe thead tr:only-child th {\n",
       "        text-align: right;\n",
       "    }\n",
       "\n",
       "    .dataframe thead th {\n",
       "        text-align: left;\n",
       "    }\n",
       "\n",
       "    .dataframe tbody tr th {\n",
       "        vertical-align: top;\n",
       "    }\n",
       "</style>\n",
       "<table border=\"1\" class=\"dataframe\">\n",
       "  <thead>\n",
       "    <tr style=\"text-align: right;\">\n",
       "      <th></th>\n",
       "      <th>fixed acidity</th>\n",
       "      <th>volatile acidity</th>\n",
       "      <th>citric acid</th>\n",
       "      <th>residual sugar</th>\n",
       "      <th>chlorides</th>\n",
       "      <th>free sulfur dioxide</th>\n",
       "      <th>total sulfur dioxide</th>\n",
       "      <th>density</th>\n",
       "      <th>pH</th>\n",
       "      <th>sulphates</th>\n",
       "      <th>alcohol</th>\n",
       "      <th>quality</th>\n",
       "    </tr>\n",
       "  </thead>\n",
       "  <tbody>\n",
       "    <tr>\n",
       "      <th>0</th>\n",
       "      <td>7.4</td>\n",
       "      <td>0.70</td>\n",
       "      <td>0.00</td>\n",
       "      <td>1.9</td>\n",
       "      <td>0.076</td>\n",
       "      <td>11.0</td>\n",
       "      <td>34.0</td>\n",
       "      <td>0.9978</td>\n",
       "      <td>3.51</td>\n",
       "      <td>0.56</td>\n",
       "      <td>9.4</td>\n",
       "      <td>5</td>\n",
       "    </tr>\n",
       "    <tr>\n",
       "      <th>1</th>\n",
       "      <td>7.8</td>\n",
       "      <td>0.88</td>\n",
       "      <td>0.00</td>\n",
       "      <td>2.6</td>\n",
       "      <td>0.098</td>\n",
       "      <td>25.0</td>\n",
       "      <td>67.0</td>\n",
       "      <td>0.9968</td>\n",
       "      <td>3.20</td>\n",
       "      <td>0.68</td>\n",
       "      <td>9.8</td>\n",
       "      <td>5</td>\n",
       "    </tr>\n",
       "    <tr>\n",
       "      <th>2</th>\n",
       "      <td>7.8</td>\n",
       "      <td>0.76</td>\n",
       "      <td>0.04</td>\n",
       "      <td>2.3</td>\n",
       "      <td>0.092</td>\n",
       "      <td>15.0</td>\n",
       "      <td>54.0</td>\n",
       "      <td>0.9970</td>\n",
       "      <td>3.26</td>\n",
       "      <td>0.65</td>\n",
       "      <td>9.8</td>\n",
       "      <td>5</td>\n",
       "    </tr>\n",
       "    <tr>\n",
       "      <th>3</th>\n",
       "      <td>11.2</td>\n",
       "      <td>0.28</td>\n",
       "      <td>0.56</td>\n",
       "      <td>1.9</td>\n",
       "      <td>0.075</td>\n",
       "      <td>17.0</td>\n",
       "      <td>60.0</td>\n",
       "      <td>0.9980</td>\n",
       "      <td>3.16</td>\n",
       "      <td>0.58</td>\n",
       "      <td>9.8</td>\n",
       "      <td>6</td>\n",
       "    </tr>\n",
       "    <tr>\n",
       "      <th>4</th>\n",
       "      <td>7.4</td>\n",
       "      <td>0.70</td>\n",
       "      <td>0.00</td>\n",
       "      <td>1.9</td>\n",
       "      <td>0.076</td>\n",
       "      <td>11.0</td>\n",
       "      <td>34.0</td>\n",
       "      <td>0.9978</td>\n",
       "      <td>3.51</td>\n",
       "      <td>0.56</td>\n",
       "      <td>9.4</td>\n",
       "      <td>5</td>\n",
       "    </tr>\n",
       "  </tbody>\n",
       "</table>\n",
       "</div>"
      ],
      "text/plain": [
       "   fixed acidity  volatile acidity  citric acid  residual sugar  chlorides  \\\n",
       "0            7.4              0.70         0.00             1.9      0.076   \n",
       "1            7.8              0.88         0.00             2.6      0.098   \n",
       "2            7.8              0.76         0.04             2.3      0.092   \n",
       "3           11.2              0.28         0.56             1.9      0.075   \n",
       "4            7.4              0.70         0.00             1.9      0.076   \n",
       "\n",
       "   free sulfur dioxide  total sulfur dioxide  density    pH  sulphates  \\\n",
       "0                 11.0                  34.0   0.9978  3.51       0.56   \n",
       "1                 25.0                  67.0   0.9968  3.20       0.68   \n",
       "2                 15.0                  54.0   0.9970  3.26       0.65   \n",
       "3                 17.0                  60.0   0.9980  3.16       0.58   \n",
       "4                 11.0                  34.0   0.9978  3.51       0.56   \n",
       "\n",
       "   alcohol  quality  \n",
       "0      9.4        5  \n",
       "1      9.8        5  \n",
       "2      9.8        5  \n",
       "3      9.8        6  \n",
       "4      9.4        5  "
      ]
     },
     "execution_count": 7,
     "metadata": {},
     "output_type": "execute_result"
    }
   ],
   "source": [
    "# read either local or web file version; pick whichever works for you\n",
    "local_file_white = \"data/winequality-white.csv\"\n",
    "local_file_red   = \"data/winequality-red.csv\"\n",
    "web_file_white = \"https://raw.githubusercontent.com/dblarremore/csci3022/master/homework/homework5/data/winequality-white.csv\"\n",
    "web_file_red   = \"https://raw.githubusercontent.com/dblarremore/csci3022/master/homework/homework5/data/winequality-red.csv\"\n",
    "\n",
    "filePathRed = local_file_red\n",
    "filePathWhite = local_file_white\n",
    "\n",
    "dfRed   = pd.read_csv(filePathRed, delimiter=';')\n",
    "dfWhite = pd.read_csv(filePathWhite, delimiter=';')\n",
    "\n",
    "dfRed.head()"
   ]
  },
  {
   "cell_type": "code",
   "execution_count": 8,
   "metadata": {},
   "outputs": [
    {
     "data": {
      "text/html": [
       "<div>\n",
       "<style>\n",
       "    .dataframe thead tr:only-child th {\n",
       "        text-align: right;\n",
       "    }\n",
       "\n",
       "    .dataframe thead th {\n",
       "        text-align: left;\n",
       "    }\n",
       "\n",
       "    .dataframe tbody tr th {\n",
       "        vertical-align: top;\n",
       "    }\n",
       "</style>\n",
       "<table border=\"1\" class=\"dataframe\">\n",
       "  <thead>\n",
       "    <tr style=\"text-align: right;\">\n",
       "      <th></th>\n",
       "      <th>fixed acidity</th>\n",
       "      <th>volatile acidity</th>\n",
       "      <th>citric acid</th>\n",
       "      <th>residual sugar</th>\n",
       "      <th>chlorides</th>\n",
       "      <th>free sulfur dioxide</th>\n",
       "      <th>total sulfur dioxide</th>\n",
       "      <th>density</th>\n",
       "      <th>pH</th>\n",
       "      <th>sulphates</th>\n",
       "      <th>alcohol</th>\n",
       "      <th>quality</th>\n",
       "    </tr>\n",
       "  </thead>\n",
       "  <tbody>\n",
       "    <tr>\n",
       "      <th>0</th>\n",
       "      <td>7.0</td>\n",
       "      <td>0.27</td>\n",
       "      <td>0.36</td>\n",
       "      <td>20.7</td>\n",
       "      <td>0.045</td>\n",
       "      <td>45.0</td>\n",
       "      <td>170.0</td>\n",
       "      <td>1.0010</td>\n",
       "      <td>3.00</td>\n",
       "      <td>0.45</td>\n",
       "      <td>8.8</td>\n",
       "      <td>6</td>\n",
       "    </tr>\n",
       "    <tr>\n",
       "      <th>1</th>\n",
       "      <td>6.3</td>\n",
       "      <td>0.30</td>\n",
       "      <td>0.34</td>\n",
       "      <td>1.6</td>\n",
       "      <td>0.049</td>\n",
       "      <td>14.0</td>\n",
       "      <td>132.0</td>\n",
       "      <td>0.9940</td>\n",
       "      <td>3.30</td>\n",
       "      <td>0.49</td>\n",
       "      <td>9.5</td>\n",
       "      <td>6</td>\n",
       "    </tr>\n",
       "    <tr>\n",
       "      <th>2</th>\n",
       "      <td>8.1</td>\n",
       "      <td>0.28</td>\n",
       "      <td>0.40</td>\n",
       "      <td>6.9</td>\n",
       "      <td>0.050</td>\n",
       "      <td>30.0</td>\n",
       "      <td>97.0</td>\n",
       "      <td>0.9951</td>\n",
       "      <td>3.26</td>\n",
       "      <td>0.44</td>\n",
       "      <td>10.1</td>\n",
       "      <td>6</td>\n",
       "    </tr>\n",
       "    <tr>\n",
       "      <th>3</th>\n",
       "      <td>7.2</td>\n",
       "      <td>0.23</td>\n",
       "      <td>0.32</td>\n",
       "      <td>8.5</td>\n",
       "      <td>0.058</td>\n",
       "      <td>47.0</td>\n",
       "      <td>186.0</td>\n",
       "      <td>0.9956</td>\n",
       "      <td>3.19</td>\n",
       "      <td>0.40</td>\n",
       "      <td>9.9</td>\n",
       "      <td>6</td>\n",
       "    </tr>\n",
       "    <tr>\n",
       "      <th>4</th>\n",
       "      <td>7.2</td>\n",
       "      <td>0.23</td>\n",
       "      <td>0.32</td>\n",
       "      <td>8.5</td>\n",
       "      <td>0.058</td>\n",
       "      <td>47.0</td>\n",
       "      <td>186.0</td>\n",
       "      <td>0.9956</td>\n",
       "      <td>3.19</td>\n",
       "      <td>0.40</td>\n",
       "      <td>9.9</td>\n",
       "      <td>6</td>\n",
       "    </tr>\n",
       "  </tbody>\n",
       "</table>\n",
       "</div>"
      ],
      "text/plain": [
       "   fixed acidity  volatile acidity  citric acid  residual sugar  chlorides  \\\n",
       "0            7.0              0.27         0.36            20.7      0.045   \n",
       "1            6.3              0.30         0.34             1.6      0.049   \n",
       "2            8.1              0.28         0.40             6.9      0.050   \n",
       "3            7.2              0.23         0.32             8.5      0.058   \n",
       "4            7.2              0.23         0.32             8.5      0.058   \n",
       "\n",
       "   free sulfur dioxide  total sulfur dioxide  density    pH  sulphates  \\\n",
       "0                 45.0                 170.0   1.0010  3.00       0.45   \n",
       "1                 14.0                 132.0   0.9940  3.30       0.49   \n",
       "2                 30.0                  97.0   0.9951  3.26       0.44   \n",
       "3                 47.0                 186.0   0.9956  3.19       0.40   \n",
       "4                 47.0                 186.0   0.9956  3.19       0.40   \n",
       "\n",
       "   alcohol  quality  \n",
       "0      8.8        6  \n",
       "1      9.5        6  \n",
       "2     10.1        6  \n",
       "3      9.9        6  \n",
       "4      9.9        6  "
      ]
     },
     "execution_count": 8,
     "metadata": {},
     "output_type": "execute_result"
    }
   ],
   "source": [
    "dfWhite.head()"
   ]
  },
  {
   "cell_type": "code",
   "execution_count": 16,
   "metadata": {},
   "outputs": [
    {
     "name": "stdout",
     "output_type": "stream",
     "text": [
      "1599\n",
      "4898\n"
     ]
    }
   ],
   "source": [
    "lenRed = len(dfRed)\n",
    "lenWhite = len(dfWhite)\n",
    "\n",
    "print(lenRed)\n",
    "print(lenWhite)"
   ]
  },
  {
   "cell_type": "markdown",
   "metadata": {},
   "source": [
    "We are justified in using the Central Limit Theorum because the sample size in this case is greater than 30."
   ]
  },
  {
   "cell_type": "markdown",
   "metadata": {},
   "source": [
    "**Part B:** Let $X$ be a random variable denoting the quality of a bottle of wine, and let $C$ be a random variable denoting its color (either red ($r$) or white ($w$)). For the remainder of this problem, we are concerned with probabilities such as \"If I buy a random bottle of red wine, what is the probability that its quality is at least a 7?\". We could write that probability as $P(X \\geq 7 \\mid C=r)$, for example, and consider it the ***proportion*** of the population of red wines that are at least a 7 in quality. Calculate and report estimates of $P(X \\geq 7 \\mid C=r)$ and $P(X \\geq 7 \\mid C=w)$.\n",
    "\n",
    "Obtain 95% confidence intervals for the proportion of red and white wines that are **at least** a 7 in quality (obtain one CI for each color).  Based on your results, if you are interested in buying many high quality bottles of wine but are buying totally at random, is one color a better bet than the other? Fully justify your answer.\n",
    "\n",
    "Calculations may be executed in Python, but you need to set up your work (*what* it is you are calculating) in Markdown/MathJax."
   ]
  },
  {
   "cell_type": "markdown",
   "metadata": {},
   "source": [
    "Number of quality 7 or better red wines = 217  \n",
    "Total number of red wines = 1599  \n",
    "Probability of randomly choosing a red wine that is at lease a 7 $\\approx$ 0.1357  \n",
    "\n",
    "Number of quality 7 or better white wines = 1060  \n",
    "Total number of white wines = 4898  \n",
    "Probability of randomy choosing a white wine that is at least a 7 $\\approx$ 0.2164"
   ]
  },
  {
   "cell_type": "markdown",
   "metadata": {},
   "source": [
    "In order to find the confidence interval for a proportion, I will need to use the formula: $\\displaystyle CI = \\hat{p} \\pm z_{\\alpha/2} \\sqrt{\\frac{p(1-p)}{n}}$  \n",
    "In this case, $p$ and $\\hat{p}$ are both the proportion. $n$ is the sample size, and $z_{\\alpha/2}$ is 1.96.  \n",
    "\n",
    "For the red wine:  \n",
    "$\\displaystyle CI = \\frac{217}{1599} \\pm 1.96 \\sqrt{\\frac{\\frac{217}{1599}(1-\\frac{217}{1599})}{1599}}$  \n",
    "\n",
    "For the white wine:  \n",
    "$\\displaystyle CI = \\frac{1060}{4898} \\pm 1.96 \\sqrt{\\frac{\\frac{1060}{4898}(1-\\frac{1060}{4898})}{4898}}$"
   ]
  },
  {
   "cell_type": "code",
   "execution_count": 124,
   "metadata": {},
   "outputs": [
    {
     "data": {
      "text/plain": [
       "5    681\n",
       "6    638\n",
       "7    199\n",
       "4     53\n",
       "8     18\n",
       "3     10\n",
       "Name: quality, dtype: int64"
      ]
     },
     "execution_count": 124,
     "metadata": {},
     "output_type": "execute_result"
    }
   ],
   "source": [
    "dfRed['quality'].value_counts()"
   ]
  },
  {
   "cell_type": "code",
   "execution_count": 125,
   "metadata": {},
   "outputs": [
    {
     "data": {
      "text/plain": [
       "6    2198\n",
       "5    1457\n",
       "7     880\n",
       "8     175\n",
       "4     163\n",
       "3      20\n",
       "9       5\n",
       "Name: quality, dtype: int64"
      ]
     },
     "execution_count": 125,
     "metadata": {},
     "output_type": "execute_result"
    }
   ],
   "source": [
    "dfWhite['quality'].value_counts()"
   ]
  },
  {
   "cell_type": "code",
   "execution_count": 136,
   "metadata": {},
   "outputs": [
    {
     "name": "stdout",
     "output_type": "stream",
     "text": [
      "[0.11892335230093068, 0.15249628497236514]\n"
     ]
    }
   ],
   "source": [
    "numRed = 1599\n",
    "num7red = 217 \n",
    "pRed = num7red/numRed\n",
    "z_a = stats.norm.ppf(.975)\n",
    "prop_ci = []\n",
    "prop_ci.append(pRed - z_a * (math.sqrt( (pRed*(1-pRed))/numRed )))\n",
    "prop_ci.append(pRed + z_a * (math.sqrt( (pRed*(1-pRed))/numRed )))\n",
    "print(prop_ci)"
   ]
  },
  {
   "cell_type": "code",
   "execution_count": 142,
   "metadata": {},
   "outputs": [
    {
     "name": "stdout",
     "output_type": "stream",
     "text": [
      "[0.20488231343578847, 0.22794741298315804]\n"
     ]
    }
   ],
   "source": [
    "numWhite = 4898\n",
    "num7White = 1060 \n",
    "pWhite = num7White/numWhite\n",
    "z_a = stats.norm.ppf(.975)\n",
    "prop_ci = []\n",
    "prop_ci.append(pWhite - z_a * (math.sqrt( (pWhite*(1-pWhite))/numWhite )))\n",
    "prop_ci.append(pWhite + z_a * (math.sqrt( (pWhite*(1-pWhite))/numWhite )))\n",
    "print(prop_ci)"
   ]
  },
  {
   "cell_type": "markdown",
   "metadata": {},
   "source": [
    "It is better to buy white wines because the interval for the true proportion of buying a 7 or better wine is higher for white wines. With 95% confidence, the interval of [0.2049, 0.2279] contains the true proportion of of buying a high quality white wine at random, which is higher than the interval [0.1189, 0.1525] of the true proportion of buying a high quality red wine. This means that if buying a bottle of white wine at random, you're more likely to buy a high quality wine than if you randomy bought a bottle of red."
   ]
  },
  {
   "cell_type": "markdown",
   "metadata": {},
   "source": [
    "**Part C:** Now, as college students (and teachers), we might not be super concerned with buying a really high quality bottle of wine.  Let's focus instead on making sure we do *not* buy a really disgusting bottle of wine.  Calculate and report estimates of $P(X \\geq 5 \\mid C=r)$ and $P(X \\geq 5 \\mid C=w)$.\n",
    "\n",
    "Obtain 95% confidence intervals for the proportion of red and white wines that are **at least** a 5 in quality, that is, $P(X \\geq 5 \\mid C)$.  Based on your results - and what you saw in Part B - if you are interested in buying bottles of wine that are at least a 5 in quality, but are again buying wine totally randomly, can you conclude that you are better off buying one color over the other? Fully justify your answer."
   ]
  },
  {
   "cell_type": "markdown",
   "metadata": {},
   "source": [
    "Using the same method as above, we will be using the same formula, however the sample proportion will be different. For red wine, the number of wines with a quality rating of 5 or better is 1536 out of the total 1599 red wines. For white wine, the number of wines with a quality rating of 5 or better is 4715 out of the total 4898 wines. \n",
    "This gives us the following sample proportions:  \n",
    "Red = $\\frac{1536}{1599} = 0.9606$  \n",
    "White = $\\frac{4715}{4898} = 0.9626$\n",
    "\n",
    "For the red wine:  \n",
    "$\\displaystyle CI = \\frac{1536}{1599} \\pm 1.96 \\sqrt{\\frac{\\frac{1536}{1599}(1-\\frac{1536}{1599})}{1599}}$  \n",
    "\n",
    "For the white wine:  \n",
    "$\\displaystyle CI = \\frac{4715}{4898} \\pm 1.96 \\sqrt{\\frac{\\frac{4715}{4898}(1-\\frac{4715}{4898})}{4898}}$"
   ]
  },
  {
   "cell_type": "code",
   "execution_count": 140,
   "metadata": {},
   "outputs": [
    {
     "name": "stdout",
     "output_type": "stream",
     "text": [
      "[0.95106492337382564, 0.97013582709521751]\n"
     ]
    }
   ],
   "source": [
    "numRed = 1599\n",
    "num5red = 1536 \n",
    "pRed = num5red/numRed\n",
    "z_a = stats.norm.ppf(.975)\n",
    "prop_ci = []\n",
    "prop_ci.append(pRed - z_a * (math.sqrt( (pRed*(1-pRed))/numRed )))\n",
    "prop_ci.append(pRed + z_a * (math.sqrt( (pRed*(1-pRed))/numRed )))\n",
    "print(prop_ci)"
   ]
  },
  {
   "cell_type": "code",
   "execution_count": 141,
   "metadata": {},
   "outputs": [
    {
     "name": "stdout",
     "output_type": "stream",
     "text": [
      "[0.95732668891532136, 0.96794893378782287]\n"
     ]
    }
   ],
   "source": [
    "numWhite = 4898\n",
    "num7White = 4715 \n",
    "pWhite = num7White/numWhite\n",
    "z_a = stats.norm.ppf(.975)\n",
    "prop_ci = []\n",
    "prop_ci.append(pWhite - z_a * (math.sqrt( (pWhite*(1-pWhite))/numWhite )))\n",
    "prop_ci.append(pWhite + z_a * (math.sqrt( (pWhite*(1-pWhite))/numWhite )))\n",
    "print(prop_ci)"
   ]
  },
  {
   "cell_type": "markdown",
   "metadata": {},
   "source": [
    "When wanting a wine better than a 5, it really doesn't matter which wine you buy. For red wine, the true proportion lies between the interval [0.9511, 0.9701] and for white wine the true proportion is on the interval [0.9573, 0.9679] with confidence of 95%. These intervals are extremely similar, so you have about the same probability of getting a decent quality wine regardless of which color wine you buy."
   ]
  },
  {
   "cell_type": "markdown",
   "metadata": {},
   "source": [
    "**Part D:** Compute a 95% confidence interval for the difference in proportions of red and white wines that are at least a 5 in quality. \n",
    "\n",
    "Now, based on your results for this part, can you conclude that you are better off buying one color over the other? Fully justify your answer. How does your work here differ from your work in **Part C**?"
   ]
  },
  {
   "cell_type": "markdown",
   "metadata": {
    "collapsed": true
   },
   "source": [
    "When finding the confidence interval for the difference in proportions, you use the following formula:  \n",
    "$\\displaystyle CI = (\\hat{p}_1 - \\hat{p}_2)\\pm z_{\\alpha/2} \\sqrt{\\frac{\\hat{p}_1(1-\\hat{p}_1)}{m} + \\frac{\\hat{p}_2(1-\\hat{p}_2)}{n}}$  \n",
    "\n",
    "In this case, $\\displaystyle \\hat{p}_1 = P(X \\geq 5 | C = r) = \\frac{1536}{1599}$  and  $\\displaystyle \\hat{p}_2 = P(X \\geq 5 | C = w) = \\frac{4715}{4898}$"
   ]
  },
  {
   "cell_type": "code",
   "execution_count": 143,
   "metadata": {},
   "outputs": [
    {
     "name": "stdout",
     "output_type": "stream",
     "text": [
      "[-0.012952236331461057, 0.0088773640973599782]\n"
     ]
    }
   ],
   "source": [
    "numRed = 1599\n",
    "num5red = 1536 \n",
    "pRed = num5red/numRed\n",
    "\n",
    "numWhite = 4898\n",
    "num7White = 4715 \n",
    "pWhite = num7White/numWhite\n",
    "\n",
    "diff_prop = pRed - pWhite\n",
    "z_a = stats.norm.ppf(.975)\n",
    "diff_prop_ci = []\n",
    "diff_prop_ci.append(diff_prop - z_a * (math.sqrt( ((pRed*(1-pRed))/numRed) + ((pWhite*(1-pWhite))/numWhite) )))\n",
    "diff_prop_ci.append(diff_prop + z_a * (math.sqrt( ((pRed*(1-pRed))/numRed) + ((pWhite*(1-pWhite))/numWhite) )))\n",
    "print(diff_prop_ci)"
   ]
  },
  {
   "cell_type": "markdown",
   "metadata": {},
   "source": [
    "Based off of this information, I can conclude that no color of wine holds an advantage. Since the interval includes 0, then that means that there is a reasonable chance that the true proportion is 0 or very close to 0, and therefore there is no significant difference. "
   ]
  },
  {
   "cell_type": "markdown",
   "metadata": {},
   "source": [
    "**Part E:**  Now, we have many more observations of white wines than red. This certainly contributes to the width of the 95% confidence interval for the proportion of red wines that are at least a 5 in quality, which you should have found in **Part C** to be wider than the corresponding confidence interval for white wines. \n",
    "\n",
    "How large would our sample size of red wines need to be in order to guarantee that this 95% confidence interval width is at most 0.01? Note that we are hypothetically adding more samples, so we do not know the precise value of $\\hat{p}$."
   ]
  },
  {
   "cell_type": "code",
   "execution_count": null,
   "metadata": {
    "collapsed": true
   },
   "outputs": [],
   "source": []
  },
  {
   "cell_type": "markdown",
   "metadata": {},
   "source": []
  },
  {
   "cell_type": "markdown",
   "metadata": {},
   "source": [
    "---\n",
    "\n",
    "<a id='p3'></a>\n",
    "[Back to top](#top)\n",
    "\n",
    "### [30 points] Problem 3 - Exploring Confidence Intervals \n",
    "\n",
    "The [Gumbel](https://en.wikipedia.org/wiki/Gumbel_distribution) distribution is one of several distributions frequently used to model environmental extremes (for example, extreme temperatures and sea levels).  It is also fairly asymmetric, and thus interesting for investigating confidence intervals.  It is implemented in scipy.stats as [gumbel_r](https://docs.scipy.org/doc/scipy/reference/generated/scipy.stats.gumbel_r.html), where the appendix \"\\_r\" denotes the right-skewed version of the Gumbel distribution (as opposed to the left-skewed)."
   ]
  },
  {
   "cell_type": "markdown",
   "metadata": {},
   "source": [
    "**Part A**: Complete the following code cell to plot a histogram of 100 realizations from the Gumbel distribution with parameters $\\mu=8$ and $\\beta=2$.  Be sure to leave this cell executed before turning in your assignment! Make your histogram grey with gold edges."
   ]
  },
  {
   "cell_type": "code",
   "execution_count": 164,
   "metadata": {},
   "outputs": [
    {
     "data": {
      "image/png": "[encoded data removed]",
      "text/plain": [
       "<matplotlib.figure.Figure at 0x1a25602748>"
      ]
     },
     "metadata": {},
     "output_type": "display_data"
    },
    {
     "name": "stdout",
     "output_type": "stream",
     "text": [
      "9.2287260062\n"
     ]
    }
   ],
   "source": [
    "mu = 8\n",
    "beta = 2\n",
    "n_sample = 100\n",
    "from scipy.stats import gumbel_r\n",
    "\n",
    "gumbel = np.random.gumbel(mu, beta, n_sample)\n",
    "mean = np.mean(gumbel)\n",
    "plt.hist(gumbel, color = 'grey', edgecolor = 'gold')\n",
    "plt.title('Gumbel Distribution')\n",
    "plt.xlabel('Values')\n",
    "plt.ylabel('Frequency')\n",
    "plt.show()\n",
    "print(mean)"
   ]
  },
  {
   "cell_type": "markdown",
   "metadata": {},
   "source": [
    "**Part B:** Look up the analytical mean and variance of the Gumbel distribution with parameters $\\mu=8$ and $\\beta=2$ and calculate them here by hand.  Note that the Euler–Mascheroni constant can be accessed via `np.euler_gamma`. \n",
    "\n",
    "Use the empirical mean from your sample in **Part A**, and the true variance of the Gumbel distribution to compute by hand a 95% confidence interval for the mean."
   ]
  },
  {
   "cell_type": "markdown",
   "metadata": {},
   "source": [
    "The analytical mean of the Gumbel distribution is $\\mu + \\beta\\gamma$ where $\\gamma = $ Euler-Mascheroni constant.  \n",
    "The analytical variance of the Gumbel distribution is $\\frac{\\pi^2}{6}\\beta^2$ "
   ]
  },
  {
   "cell_type": "code",
   "execution_count": 158,
   "metadata": {},
   "outputs": [
    {
     "name": "stdout",
     "output_type": "stream",
     "text": [
      "9.154431329803066\n"
     ]
    }
   ],
   "source": [
    "anal_mean = mu+beta*np.euler_gamma\n",
    "print(anal_mean)"
   ]
  },
  {
   "cell_type": "code",
   "execution_count": 160,
   "metadata": {},
   "outputs": [
    {
     "name": "stdout",
     "output_type": "stream",
     "text": [
      "6.579736267392906\n"
     ]
    }
   ],
   "source": [
    "anal_var = ((np.pi**2)/6)*(beta**2)\n",
    "print(anal_var)"
   ]
  },
  {
   "cell_type": "markdown",
   "metadata": {},
   "source": [
    "To find the confidence interval of the mean, I use the same formula for finding a confidence interval:  \n",
    "$\\displaystyle CI = \\bar{X} \\pm z_{\\alpha/2}\\left(\\frac{\\sigma}{\\sqrt{n}}\\right)$  \n",
    "In this case, $\\bar{X} =$ the sample mean from **Part A**  \n",
    "$\\sigma = $ the true variance of the Gumbel distrobution.  \n",
    "From above problems I know that the $z_{\\alpha/2} = 1.96$ and we know that n = 100.\n",
    "\n",
    "$\\displaystyle CI = 9.229 \\pm 1.96 \\left(\\frac{6.579}{\\sqrt{100}}\\right)$  \n",
    "This gives us the interval of [7.8155, 10.3947]"
   ]
  },
  {
   "cell_type": "code",
   "execution_count": 163,
   "metadata": {},
   "outputs": [
    {
     "name": "stdout",
     "output_type": "stream",
     "text": [
      "[7.8155169841156038, 10.394726206488023]\n"
     ]
    }
   ],
   "source": [
    "sample_mean = mean\n",
    "std_dev = anal_var\n",
    "z_alpha = stats.norm.ppf(.975)\n",
    "n = 100\n",
    "confidence_interval = []\n",
    "confidence_interval.append(sample_mean - z_alpha * (std_dev/math.sqrt(n)))\n",
    "confidence_interval.append(sample_mean + z_alpha * (std_dev/math.sqrt(n)))\n",
    "\n",
    "print(confidence_interval)"
   ]
  },
  {
   "cell_type": "markdown",
   "metadata": {},
   "source": [
    "**Part C:  A theoretical interlude.** When Stella O'Flaherty (the famous octopus) ran her solution code for **Part B**, she obtained a 95% confidence interval of $[8.81, 9.82]$ for the mean of the $Gum(\\mu=8, \\beta=2)$ distribution. For each of the following, explain why or why not the situation described is correct, given the technical definition of a 95% confidence interval we went over in class.\n",
    "\n",
    "**(i)** If you had no other evidence regarding true mean of the $Gum(\\mu=8, \\beta=2)$ distribution, you could say there is a 95% chance that its true mean falls between 8.81 and 9.82.\n",
    "\n",
    "**(ii)** If a class of 100 students all construct 95% confidence intervals for the mean of the $Gum(\\mu=8, \\beta=2)$ distribution, then we expect about 95 of their CIs to contain the true mean, and about 5 of them to miss the true mean.\n",
    "\n",
    "**(iii)** There is a 95% probability that any given random variable sampled from $Gum(\\mu=8, \\beta=2)$ will be between 8.81 and 9.82."
   ]
  },
  {
   "cell_type": "markdown",
   "metadata": {},
   "source": [
    "**Part C** Answers\n",
    "\n",
    "**(i)** This is not correct because the true mean never changes. Therefore, it doesnt have a probability of falling within a certain range. It would be more accurate to say that there is a 95% chance the confidence interval contains the true mean.  \n",
    "**(ii)** This is correct. What a 95% confidence interval means is that 95% of confidence intervals obtained from sampling will contain the true mean, so it would be expected that 95 of the students CIs would contain the true mean, and 5 would not."
   ]
  },
  {
   "cell_type": "markdown",
   "metadata": {},
   "source": [
    "**Part D:** In this part you'll write a function to investigate the _coverage properties_ of a confidence interval for the mean of the Gumbel distribution. Complete the following function to randomly sample $m=500$ sample means with sample size $n=100$ for the Gumbel distribution with parameters $\\mu=8$ and $\\beta=2$.  For each random sample, compute the 66% confidence interval for the mean. Note that you actually know that the variance for the true population distribution is, $\\sigma^2$.  Your function should do two things: \n",
    "\n",
    "1. Report the proportion of confidence intervals that successfully cover the true mean of the distribution \n",
    "2. Make a plot of 50 randomly selected confidence intervals. Overlay the intervals on the line $y=\\textrm{True mean}$ (from **Part B**). Color confidence intervals black if they cover the true mean, and red if they don't.  \n",
    "\n",
    "Be sure to leave this cell executed before turning in your assignment!"
   ]
  },
  {
   "cell_type": "code",
   "execution_count": null,
   "metadata": {
    "collapsed": true,
    "scrolled": false
   },
   "outputs": [],
   "source": [
    "def confidence_intervals(m=500, n=100):\n",
    "    mu = 8\n",
    "    beta = 2\n",
    "    # Your code here\n",
    "    proportion_CIs_covering_mean = 0\n",
    "    print(\"proportion covering mean: {:.3f}\".format(proportion_CIs_covering_mean))\n",
    "    \n",
    "    \n",
    "confidence_intervals()"
   ]
  },
  {
   "cell_type": "markdown",
   "metadata": {},
   "source": [
    "**Part E:** Does the proportion of confidence intervals that cover the true mean of the distribution agree with the theory described in class?  Justify your conclusion. "
   ]
  },
  {
   "cell_type": "markdown",
   "metadata": {},
   "source": []
  },
  {
   "cell_type": "markdown",
   "metadata": {
    "collapsed": true
   },
   "source": [
    "---\n",
    "\n",
    "<a id='p4'></a>\n",
    "[Back to top](#top)\n",
    "\n",
    "### [15 points] Problem 4 - Freethrows\n",
    "***\n",
    "\n",
    "Keep your skills sharp by answering these straightforward questions."
   ]
  },
  {
   "cell_type": "markdown",
   "metadata": {},
   "source": [
    "**Part A**: <font color='green'>You are driving through the paint toward the basket when Steph Curry fouls you. You step to the line to sink this freethrow shot, which is delivered in the form of a CSCI3022 problem:</font>\n",
    "\n",
    "You have a shuffled deck of cards. It includes the usual 52 cards AND three special additional Octopus cards. You flip over the cards one by one, without replacing them in the deck. You count how many cards you'll have to flip until you flip over the second Octopus.  You repeat this many times. Simulate this process. Plot a histogram with binsize=1 of the outcomes, in lightgrey with white outline. Compute the mean, median, and mode for this dataset, indicate them on the plot too, using linstyles of green dashed, pink dotted, and black solid, respectively. Look up how to do a legend in MatPlotLib, and label your histogram, mean, median.\n",
    "***"
   ]
  },
  {
   "cell_type": "code",
   "execution_count": 183,
   "metadata": {},
   "outputs": [
    {
     "data": {
      "image/png": "[encoded data removed]",
      "text/plain": [
       "<matplotlib.figure.Figure at 0x1a2637a278>"
      ]
     },
     "metadata": {},
     "output_type": "display_data"
    }
   ],
   "source": [
    "deck = [1,1,1,1,2,2,2,2,3,3,3,3,4,4,4,4,5,5,5,5,6,6,6,6,7,7,7,7,8,8,8,8,9,9,9,9,10,10,10,10,11,11,11,11,12,12,12,12,13,13,13,13,'octo','octo','octo']\n",
    "\n",
    "draw = []\n",
    "sims = 1000\n",
    "\n",
    "for i in range (sims):\n",
    "    choice = np.random.choice(deck, replace = False, size = 55)\n",
    "    octoCards = 0\n",
    "    card = 0\n",
    "    numDraws = 0\n",
    "    while octoCards < 2:\n",
    "        if (str(choice[card])=='octo'):\n",
    "            octoCards += 1\n",
    "        card += 1\n",
    "        numDraws += 1\n",
    "    draw.append(numDraws)\n",
    "\n",
    "mean = np.mean(draw)\n",
    "median = np.median(draw)\n",
    "mode = stats.mode(draw)\n",
    "mode = list(mode[0])[0]\n",
    "\n",
    "fig, ax = plt.subplots(1,1, figsize = (10,6))\n",
    "ax.hist(draw, density = True, bins = 55, color = 'lightgrey', edgecolor = 'white')\n",
    "ax.set_title('Frequency of the Number of Cards Drawn until Second Octo Card', fontsize = 16)\n",
    "ax.set_xlabel('Cards Drawn Until Second Octo Card', fontsize = 16)\n",
    "ax.set_ylabel('Frequency', fontsize = 16)\n",
    "ax.axvline(mean, color = 'green', linestyle = 'dashed', linewidth = 4, label = 'Mean')\n",
    "ax.axvline(median, color = 'pink', linestyle = 'dotted', linewidth = 4, label = 'Median')\n",
    "ax.axvline(mode, color = 'black', linestyle = 'solid', linewidth = 4, label = \"Mode\")\n",
    "ax.legend()\n",
    "plt.show()"
   ]
  },
  {
   "cell_type": "markdown",
   "metadata": {},
   "source": [
    "**Part B**: <font color='green'>You sink your first free throw and immediately get dap from your teammates, Oscar O'Flaherty and Octavia O'Flaherty. You prepare to take another shot, which—and you're not going to believe this—is another CSCI3022 problem:</font>\n",
    "\n",
    "In general, which is wider: a 95% confidence interval or a 99% confidence interval? How would you explain this to your younger sibling, who is not a statistician?\n",
    "***"
   ]
  },
  {
   "cell_type": "markdown",
   "metadata": {
    "collapsed": true
   },
   "source": [
    "A 99% confidence interval will be wider. Thankfully, my younger sibling is my twin brother who is 8 minutes younger than me, so explaining it to him shouldn't be too hard. A confidence interval is the interval that likely contain the true mean (or whatever parameter) of our data set. The higher the interval, the higher likelyhood that our interval contains the true mean, or whatever parameter. For example, if you were shooting free throws (much like we are now) a larger hoop gives me a higher percentage that my free throw makes it in the hoop. A hoop that is 10 feet in diameter gives me a much higher chance that I'll make it in, that a 2 foot hoop."
   ]
  },
  {
   "cell_type": "markdown",
   "metadata": {},
   "source": [
    "**Part C**: <font color='green'>The crowd is silent. Everything is slow motion. You're literally in the air, releasing what looks to be a perfect shot to tie the match. As you release the ball, a hand appears to block it. It is Kevin Durant. :( \n",
    "\n",
    "Luckily, his fingertips also brush against your arm. That's a foul, and everyone saw it. Back to the line. Back to CSCI3022:</font>\n",
    "\n",
    "Let $X$ be a normally-distributed random variable. You draw from it and get these values, stored in the numpy array **durant**, below. Compute a 95% confidence interval for the _standard deviation_.\n",
    "***"
   ]
  },
  {
   "cell_type": "markdown",
   "metadata": {},
   "source": [
    "In order to find the confidence interval for the SD, I first need to find the CI for variance. This requires using a Chi Squared distribution, with degrees of freedom n-1, which in this case is 9. For this confidence interval, we need to choose two critical values, ${\\chi^2}_{1-\\alpha/2,n-1}$ and ${\\chi^2}_{\\alpha/2,n-1}$. Then with $100*(1-\\alpha)$% confidence we can say that $\\displaystyle \\frac{(n-1)S^2}{{\\chi^2}_{1-\\alpha/2,n-1}} < \\sigma^2 < \\frac{(n-1)S^2}{{\\chi^2}_{1-\\alpha/2,n-1}}$  \n",
    "\n",
    "Since this formula give the CI for variance, in order to find the CI for the SD, we take the square root of each side. "
   ]
  },
  {
   "cell_type": "code",
   "execution_count": 185,
   "metadata": {
    "collapsed": true
   },
   "outputs": [],
   "source": [
    "durant = np.array([3.7778,3.9459,3.8248,4.1111,4.0180,4.0898,4.0380,3.9273,3.9614,3.8387])"
   ]
  },
  {
   "cell_type": "code",
   "execution_count": 195,
   "metadata": {},
   "outputs": [
    {
     "name": "stdout",
     "output_type": "stream",
     "text": [
      "[0.07412530902803935, 0.19673886654275355]\n"
     ]
    }
   ],
   "source": [
    "sample_variance = np.var(durant)\n",
    "std_dev = np.std(durant)\n",
    "n = 10 \n",
    "alpha = 0.05\n",
    "upper = stats.chi2.ppf(0.025, 9)\n",
    "lower = stats.chi2.ppf(0.975, 9)\n",
    "ci = []\n",
    "ci.append(math.sqrt((sample_variance*9)/lower))\n",
    "ci.append(math.sqrt((sample_variance*9)/upper))\n",
    "print(ci)"
   ]
  },
  {
   "cell_type": "markdown",
   "metadata": {},
   "source": [
    "**Part D**: <font color='green'>\"Draymond Green has it all, in spite of living in the Bay Area,\" you think to yourself. \"But he doesn't have this shot...\" You're all over him, and he's going to have to pass. You can see the irritation in his eyes. Then you realize that it's not irritation, and he's not being distracted by your superb defense. He's being distracted by this CSCI3022 problem:</font>\n",
    "\n",
    "If you're doing quality control for the average strength of carbon fiber that will be used in airplane construction, and your alternative hypothesis is that the strength of the carbon is below tolerance, and therefore unsafe, would you rather have a low Type I error rate or a low Type II error rate? Explain.\n",
    "\n",
    "***"
   ]
  },
  {
   "cell_type": "markdown",
   "metadata": {},
   "source": [
    "I would rather have a low Type II error rate. A Type II error would mean that the null hypothesis is false and was not rejected. In other words, a Type II error is essentially a false negative. In respect to this problem, that would mean that the carbon was below tolerance and unsafe, but was not rejected resulting in unsafe carbon being used in the construction of this airplane. If the Type I error rate is low, then that means that carbon that is actually above tolerance and safe for construction is being rejected, which doesn't compromise the safety of the airplane. "
   ]
  },
  {
   "cell_type": "markdown",
   "metadata": {},
   "source": [
    "**Part E**: <font color='green'>You are watching tape footage at halftime with your personal trainer, Stella O'Flaherty. You gotta focus up if you're going to match Klay Thompson's speed in the second half. You take a sip of Gatorade and Dr. O'Flaherty suggests that you do the following CSCI3022 problem:</font>\n",
    "\n",
    "You measure 53 suckers from baby reef octopuses and find that they are, on average, 45.2 mm wide, with a standard devaition of 30.4mm. \n",
    "\n",
    "Then you measure 41 suckers from from baby dumbo octopuses and find that they are, on average, 52.8 mm wide, with a standard deviation of 22.8 mm. \n",
    "\n",
    "Is there statistical evidence at the 0.05 significance level that the true mean of baby dumbo octopus sucker width exceeds the true mean of baby reef octopus sucker width by more than 6 mm?  Use a test of your choice.\n",
    "\n",
    "***"
   ]
  },
  {
   "cell_type": "markdown",
   "metadata": {},
   "source": [
    "In order to find if there is a differnce in the true means of the baby octopus sucker width, I will look at the confidence interval for the difference in mean sucker width.  \n",
    "\n",
    "$\\displaystyle CI = \\bar{X}-\\bar{Y} \\pm z_{\\alpha/2} SD$, where $\\displaystyle SD = \\sqrt{\\frac{\\sigma_{1}^2}{m}+\\frac{\\sigma_{2}^2}{n}}$ "
   ]
  },
  {
   "cell_type": "code",
   "execution_count": 200,
   "metadata": {},
   "outputs": [
    {
     "name": "stdout",
     "output_type": "stream",
     "text": [
      "[-3.5474904574907331, 18.74749045749072]\n"
     ]
    }
   ],
   "source": [
    "dif_mean = 52.8-45.2\n",
    "\n",
    "std_dev_dumbo = 22.8\n",
    "std_dev_dumbo_squared = (std_dev_dumbo)**2\n",
    "\n",
    "std_dev_reef = 30.4\n",
    "std_dev_reef_squared = (std_dev_reef)**2\n",
    "\n",
    "z_alpha = stats.norm.ppf(.975)\n",
    "n = 53\n",
    "m = 41\n",
    "\n",
    "confidence_interval_dif = []\n",
    "\n",
    "confidence_interval_dif.append(dif_mean - z_alpha * (math.sqrt( ((std_dev_reef_squared)/m) + ((std_dev_dumbo_squared)/n) )))\n",
    "confidence_interval_dif.append(dif_mean + z_alpha * (math.sqrt( ((std_dev_reef_squared)/m) + ((std_dev_dumbo_squared)/n) )))\n",
    "print(confidence_interval_dif)"
   ]
  },
  {
   "cell_type": "markdown",
   "metadata": {},
   "source": [
    "There is not statistical evidence becuase the confidence interval for the difference in mean sucker width includes 0, which means that there is a reasonable possibility that the true mean or baby dumbo octopuses is no different than the true mean of baby reef octopuses. "
   ]
  }
 ],
 "metadata": {
  "kernelspec": {
   "display_name": "Python 3",
   "language": "python",
   "name": "python3"
  },
  "language_info": {
   "codemirror_mode": {
    "name": "ipython",
    "version": 3
   },
   "file_extension": ".py",
   "mimetype": "text/x-python",
   "name": "python",
   "nbconvert_exporter": "python",
   "pygments_lexer": "ipython3",
   "version": "3.6.3"
  }
 },
 "nbformat": 4,
 "nbformat_minor": 2
}
