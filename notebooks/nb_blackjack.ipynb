{
 "cells": [
  {
   "cell_type": "markdown",
   "metadata": {},
   "source": [
    "# Blackjack simulation\n",
    "***\n",
    "\n",
    "We'll need Numpy and Matplotlib for this notebook, so let's load them. "
   ]
  },
  {
   "cell_type": "code",
   "execution_count": 1,
   "metadata": {
    "collapsed": true
   },
   "outputs": [],
   "source": [
    "import numpy as np \n",
    "import matplotlib.pylab as plt \n",
    "%matplotlib inline"
   ]
  },
  {
   "cell_type": "markdown",
   "metadata": {},
   "source": [
    "## The problem\n",
    "\n",
    "Octavius O'Flaherty are playing blackjack up at an octopus-themed casino in Blackhawk, Colorado. \n",
    "\n",
    "In the simplified version of blackjack that he is playing, here are the rules:\n",
    "1. Cards are worth face values (2, 3, ... , 10), face cards (J, Q, K) are worth 10, and Aces are worth either 11 or 1.\n",
    "2. The dealer gives Octavius two cards, then herself two cards.\n",
    "3. Octavius is allowed to draw a new card repeatedly (\"hit\") to try and get a card total as close to 21 as he can without going over (\"busting\").\n",
    "4. The dealer will then do the same. The dealer must always \"hit\" if her card total is 16 or less.\n",
    "5. If Octavius goes over 21, he loses, even if the dealer also busts.\n",
    "6. If neither player busts, then whoever gets closest to 21 wins. The dealer wins draws.\n",
    "\n",
    "Octavius is facing a common challenge among blackjack players: when you have a hand of 16 or 17, do you hit or stand?\n",
    "\n",
    "## Some other details\n",
    "\n",
    "In casinos, including the one Octavius happens to be in, the dealer has many decks of cards all shuffled together. There are so many decks, in fact, that we can consider the dealer to have an infinite reservoir of cards, such that the probability of obtaining any given card in a single draw is equal to the probability of obtaining that card from a single full deck of 52 cards.\n",
    "\n",
    "Note that in blackjack, we do not care about suit.\n",
    "\n",
    "## The big question\n",
    "\n",
    "**Is Octavius more likely to win if he adopts a strategy where he stands on a 16 or higher, or if he adopts a strategy where he stands on a 17 or higher?**"
   ]
  },
  {
   "cell_type": "markdown",
   "metadata": {},
   "source": [
    "# The plan:\n",
    "\n",
    "- get 2 cards\n",
    "- dealer gets 2 cards\n",
    "- we decice to hit until stay or bust\n",
    "- same as above but for dealer\n",
    "- who won?"
   ]
  },
  {
   "cell_type": "markdown",
   "metadata": {},
   "source": [
    "# Functions that we need\n",
    "\n",
    "- drawCard. Uniform draw from all possible cards, suit dont matter. Output: a card\n",
    "- doHit. inputs: cards that you have and value of cutoff. same for player and dealer, but passes different value of cutoff. Output: true or false\n",
    "- getWinner. input: player and dealer cards. output: winner\n",
    "- playGame. goes through plan above and returns winner"
   ]
  },
  {
   "cell_type": "code",
   "execution_count": 2,
   "metadata": {
    "collapsed": true
   },
   "outputs": [],
   "source": [
    "def getCard():\n",
    "    #draw card uniformily at random from cards.\n",
    "    deck = [2,3,4,5,6,7,8,9,10,10,10,10,11]\n",
    "    return np.random.choice(deck)"
   ]
  },
  {
   "cell_type": "code",
   "execution_count": 3,
   "metadata": {
    "collapsed": true
   },
   "outputs": [],
   "source": [
    "def doHit(myCards, myCutoff):\n",
    "    total = np.sum(myCards)\n",
    "    \n",
    "    if (total < myCutoff):\n",
    "        return True\n",
    "    elif (total <= 21):\n",
    "        return False\n",
    "    elif (11 in myCards):\n",
    "        #do something to make ace 1\n",
    "        myCards[myCards.index(11)] = 1\n",
    "        \n",
    "        \n",
    "        return doHit(myCards, myCutoff)\n",
    "    else:\n",
    "        return False"
   ]
  },
  {
   "cell_type": "code",
   "execution_count": 5,
   "metadata": {
    "collapsed": true
   },
   "outputs": [],
   "source": [
    "def didWeWin(ourCards, dealerCards):\n",
    "    ourSum = np.sum(ourCards)\n",
    "    dealerSum = np.sum(dealerCards)\n",
    "    if (ourSum > 21):\n",
    "        return False\n",
    "    else:\n",
    "        if (dealerSum > 21):\n",
    "            return True\n",
    "        else:\n",
    "            #both hands under 21\n",
    "            if (dealerSum < ourSum):\n",
    "                return True\n",
    "            else:\n",
    "                return False"
   ]
  },
  {
   "cell_type": "code",
   "execution_count": 10,
   "metadata": {
    "collapsed": true
   },
   "outputs": [],
   "source": [
    "def playGame(isVerbose=False):\n",
    "    ourCards = [getCard() for i in range(2)]\n",
    "    if isVerbose:\n",
    "        print(\"Us:\" , ourCards)\n",
    "    dealerCards = [getCard() for i in range(2)]\n",
    "    if isVerbose:\n",
    "        print(\"Dealer:\" , dealerCards)\n",
    "    while(doHit(ourCards, 16)):\n",
    "        ourCards.append(getCard())\n",
    "    while(doHit(dealerCards, 16)):\n",
    "        dealerCards.append(getCard())\n",
    "    if isVerbose:\n",
    "        print(\"Us final:\", ourCards)\n",
    "        print(\"Dealer final:\", dealerCards)\n",
    "    return didWeWin(ourCards, dealerCards)"
   ]
  },
  {
   "cell_type": "code",
   "execution_count": 11,
   "metadata": {},
   "outputs": [
    {
     "name": "stdout",
     "output_type": "stream",
     "text": [
      "Us: [2, 10]\n",
      "Dealer: [11, 4]\n",
      "Us final: [2, 10, 9]\n",
      "Dealer final: [1, 4, 10, 4]\n"
     ]
    },
    {
     "data": {
      "text/plain": [
       "True"
      ]
     },
     "execution_count": 11,
     "metadata": {},
     "output_type": "execute_result"
    }
   ],
   "source": [
    "playGame(isVerbose=True)"
   ]
  },
  {
   "cell_type": "code",
   "execution_count": null,
   "metadata": {
    "collapsed": true
   },
   "outputs": [],
   "source": []
  }
 ],
 "metadata": {
  "kernelspec": {
   "display_name": "Python 3",
   "language": "python",
   "name": "python3"
  },
  "language_info": {
   "codemirror_mode": {
    "name": "ipython",
    "version": 3
   },
   "file_extension": ".py",
   "mimetype": "text/x-python",
   "name": "python",
   "nbconvert_exporter": "python",
   "pygments_lexer": "ipython3",
   "version": "3.6.3"
  }
 },
 "nbformat": 4,
 "nbformat_minor": 2
}
