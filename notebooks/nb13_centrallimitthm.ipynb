{
 "cells": [
  {
   "cell_type": "markdown",
   "metadata": {},
   "source": [
    "# Lecture 13: The Central Limit Theorem\n",
    "***\n",
    "\n",
    "We'll need Numpy, Matplotlib, Pandas, and scipy.stats for this notebook, so let's load them. "
   ]
  },
  {
   "cell_type": "code",
   "execution_count": 1,
   "metadata": {
    "collapsed": true
   },
   "outputs": [],
   "source": [
    "import numpy as np \n",
    "import pandas as pd \n",
    "from scipy import stats\n",
    "import matplotlib.pylab as plt \n",
    "%matplotlib inline"
   ]
  },
  {
   "cell_type": "markdown",
   "metadata": {},
   "source": [
    "### Exercise 1 - Estimating Mean Income from a Population\n",
    "*** \n",
    "\n",
    "The file income_data.csv contains Age and Income information from a fictitious city in the Midwest with 5000 residents.  \n",
    "\n",
    "**Part A**: Shift-Enter the following cells to load the data into a pandas DataFrame called dfIncome and make a histogram of the data with 20 bins. "
   ]
  },
  {
   "cell_type": "code",
   "execution_count": 2,
   "metadata": {},
   "outputs": [
    {
     "data": {
      "text/html": [
       "<div>\n",
       "<style>\n",
       "    .dataframe thead tr:only-child th {\n",
       "        text-align: right;\n",
       "    }\n",
       "\n",
       "    .dataframe thead th {\n",
       "        text-align: left;\n",
       "    }\n",
       "\n",
       "    .dataframe tbody tr th {\n",
       "        vertical-align: top;\n",
       "    }\n",
       "</style>\n",
       "<table border=\"1\" class=\"dataframe\">\n",
       "  <thead>\n",
       "    <tr style=\"text-align: right;\">\n",
       "      <th></th>\n",
       "      <th>Age</th>\n",
       "      <th>Income</th>\n",
       "    </tr>\n",
       "  </thead>\n",
       "  <tbody>\n",
       "    <tr>\n",
       "      <th>0</th>\n",
       "      <td>28</td>\n",
       "      <td>28667</td>\n",
       "    </tr>\n",
       "    <tr>\n",
       "      <th>1</th>\n",
       "      <td>39</td>\n",
       "      <td>48929</td>\n",
       "    </tr>\n",
       "    <tr>\n",
       "      <th>2</th>\n",
       "      <td>34</td>\n",
       "      <td>88143</td>\n",
       "    </tr>\n",
       "    <tr>\n",
       "      <th>3</th>\n",
       "      <td>45</td>\n",
       "      <td>128510</td>\n",
       "    </tr>\n",
       "    <tr>\n",
       "      <th>4</th>\n",
       "      <td>45</td>\n",
       "      <td>25290</td>\n",
       "    </tr>\n",
       "  </tbody>\n",
       "</table>\n",
       "</div>"
      ],
      "text/plain": [
       "   Age  Income\n",
       "0   28   28667\n",
       "1   39   48929\n",
       "2   34   88143\n",
       "3   45  128510\n",
       "4   45   25290"
      ]
     },
     "execution_count": 2,
     "metadata": {},
     "output_type": "execute_result"
    }
   ],
   "source": [
    "local_path = \"data/income_data.csv\"\n",
    "web_path   = \"https://raw.githubusercontent.com/dblarremore/csci3022/master/notebooks/data/income_data.csv\"\n",
    "file_path  = web_path \n",
    "\n",
    "dfIncome = pd.read_csv(file_path)\n",
    "dfIncome.head()"
   ]
  },
  {
   "cell_type": "code",
   "execution_count": 4,
   "metadata": {
    "scrolled": true
   },
   "outputs": [
    {
     "data": {
      "image/png": "[encoded data removed]",
      "text/plain": [
       "<matplotlib.figure.Figure at 0x10496fd68>"
      ]
     },
     "metadata": {},
     "output_type": "display_data"
    }
   ],
   "source": [
    "fig, ax = plt.subplots(nrows=1, ncols=1, figsize=(10,5))\n",
    "dfIncome.hist(column=\"Income\", bins=20, color=\"steelblue\", edgecolor=\"white\", ax=ax)\n",
    "ax.grid(alpha=0.25)\n",
    "ax.set_axisbelow(True)\n",
    "ax.set_title(\"Income Data from Entire Population\", fontsize=16)\n",
    "ax.set_xlabel(\"Income\", fontsize=16)\n",
    "ax.set_ylabel(\"Frequency\", fontsize=16);"
   ]
  },
  {
   "cell_type": "markdown",
   "metadata": {},
   "source": [
    "**Part B**: How would you characterize the distribution of Income in the population? "
   ]
  },
  {
   "cell_type": "markdown",
   "metadata": {
    "collapsed": true
   },
   "source": [
    "possitive skew"
   ]
  },
  {
   "cell_type": "markdown",
   "metadata": {},
   "source": [
    "**Part C**: Determine the mean-income for the entire population. "
   ]
  },
  {
   "cell_type": "code",
   "execution_count": 9,
   "metadata": {},
   "outputs": [
    {
     "data": {
      "text/plain": [
       "60613.8492"
      ]
     },
     "execution_count": 9,
     "metadata": {},
     "output_type": "execute_result"
    }
   ],
   "source": [
    "dfIncome[\"Income\"].mean()"
   ]
  },
  {
   "cell_type": "markdown",
   "metadata": {},
   "source": [
    "**Part D**: In real life, we have populations much bigger than $5000$.  If we want to estimate the mean of the population we have to draw a sample from the population and compute the sample mean.  The important questions we have to ask are things like: \n",
    "\n",
    "- Is the sample mean a good approximation of the population mean? \n",
    "- How large does my sample need to be in order for the sample mean to well-approximate the population mean? \n",
    "\n",
    "Complete the following function to [sample](https://pandas.pydata.org/pandas-docs/stable/generated/pandas.DataFrame.sample.html) $n$ rows from dfIncome and return the estimated mean. Start with a sample size of 10 and draw at least 5 estimated means from your function.  Are the estimated means good approximations to the population mean we computed above? What if you increase the sample size?  Discuss the results with your neighbors. "
   ]
  },
  {
   "cell_type": "code",
   "execution_count": 7,
   "metadata": {
    "collapsed": true
   },
   "outputs": [],
   "source": [
    "def income_sample_mean(df, n):\n",
    "    dfSample=df.sample(n) #gets n sample lines from the datafram df\n",
    "    return dfSample[\"Income\"].mean()\n"
   ]
  },
  {
   "cell_type": "code",
   "execution_count": 13,
   "metadata": {},
   "outputs": [
    {
     "name": "stdout",
     "output_type": "stream",
     "text": [
      "[ <bound method Series.mean of 727     178562\n",
      "2263    106619\n",
      "1241     93350\n",
      "3881     61143\n",
      "1396     27949\n",
      "4036     11559\n",
      "4090     15197\n",
      "2038     88002\n",
      "346     193845\n",
      "1334     19737\n",
      "2805     54139\n",
      "4580    117547\n",
      "1302     22677\n",
      "1543     67807\n",
      "2453     43835\n",
      "1763     35779\n",
      "3760     58883\n",
      "4557     17271\n",
      "707      63203\n",
      "460      52450\n",
      "908      86561\n",
      "2247     14386\n",
      "340     148889\n",
      "2224    105916\n",
      "3001    140927\n",
      "3004     13880\n",
      "2160     14703\n",
      "3186    134747\n",
      "1590     55669\n",
      "816     185514\n",
      "         ...  \n",
      "249      57613\n",
      "3500    115765\n",
      "3368     10066\n",
      "1725     68279\n",
      "2387    110286\n",
      "3424     27330\n",
      "3768     22827\n",
      "4033     75125\n",
      "3375     89152\n",
      "2864    105253\n",
      "539      33424\n",
      "2271     60198\n",
      "1413     77263\n",
      "3294    119747\n",
      "4970    203931\n",
      "3649    116539\n",
      "2570     40629\n",
      "4292     47934\n",
      "2660     17618\n",
      "668      27789\n",
      "1298     67004\n",
      "4561     68335\n",
      "3239    172537\n",
      "3643     77993\n",
      "656      31299\n",
      "1940    108183\n",
      "1860     73278\n",
      "959      33592\n",
      "842       6699\n",
      "1636     99651\n",
      "Name: Income, Length: 100, dtype: int64>\n",
      " <bound method Series.mean of 3621      5337\n",
      "3752     63898\n",
      "4284      7623\n",
      "4951     33358\n",
      "735      71157\n",
      "3287     50448\n",
      "4165     37062\n",
      "4726     15597\n",
      "742     118827\n",
      "973     103866\n",
      "628      41490\n",
      "389      26163\n",
      "1728      5599\n",
      "997      58193\n",
      "2814     46397\n",
      "2123     66611\n",
      "4888     50574\n",
      "2261     87727\n",
      "3277    165291\n",
      "1753      6199\n",
      "1970     72629\n",
      "4457     28148\n",
      "1206     27342\n",
      "4332     64918\n",
      "395      32855\n",
      "989      26577\n",
      "1559      7011\n",
      "2873     32127\n",
      "108      56702\n",
      "836     113817\n",
      "         ...  \n",
      "2977     62994\n",
      "4717    134638\n",
      "672      62282\n",
      "4342     56456\n",
      "3026     75791\n",
      "16       60621\n",
      "1455     49233\n",
      "927      72634\n",
      "2407     13997\n",
      "423      24849\n",
      "339     138803\n",
      "4852     54765\n",
      "4388     23497\n",
      "2136     69573\n",
      "2127     81505\n",
      "2293     80064\n",
      "1707     23831\n",
      "1981     31366\n",
      "47       65513\n",
      "897      17654\n",
      "3922     64967\n",
      "230      73854\n",
      "3221    110105\n",
      "1952    101208\n",
      "4202     61375\n",
      "4928     65720\n",
      "4421     16466\n",
      "3652     23884\n",
      "1577     64203\n",
      "1784     62562\n",
      "Name: Income, Length: 100, dtype: int64>\n",
      " <bound method Series.mean of 1730    100503\n",
      "251      18804\n",
      "1143     47920\n",
      "4996    202154\n",
      "4155     38030\n",
      "2471    127717\n",
      "2928     18312\n",
      "686      90480\n",
      "1995    123809\n",
      "4085     16577\n",
      "3889     15452\n",
      "908      86561\n",
      "4043     14780\n",
      "3690     13384\n",
      "902     122263\n",
      "1233     16896\n",
      "2049     92683\n",
      "3070     33506\n",
      "4544     61357\n",
      "3075     69995\n",
      "614      93668\n",
      "349      51084\n",
      "2511     51198\n",
      "2220     61671\n",
      "3375     89152\n",
      "88       20012\n",
      "1864     63332\n",
      "2508     82911\n",
      "4995    202998\n",
      "3621      5337\n",
      "         ...  \n",
      "4127     13874\n",
      "4944     69014\n",
      "4578     12829\n",
      "4630     42017\n",
      "2677     96456\n",
      "295      22015\n",
      "1452     66626\n",
      "4936     89728\n",
      "517      74867\n",
      "1726     34769\n",
      "14       24628\n",
      "1107    117319\n",
      "4943     84395\n",
      "925     109909\n",
      "2029    166524\n",
      "3250     26742\n",
      "3794     20335\n",
      "231      22620\n",
      "1231     76345\n",
      "3625    123152\n",
      "2948     22991\n",
      "56       46285\n",
      "1128     43675\n",
      "328      23918\n",
      "1599     29776\n",
      "4258     10500\n",
      "577      57041\n",
      "18       43621\n",
      "1036     37868\n",
      "1494     37862\n",
      "Name: Income, Length: 100, dtype: int64>\n",
      " <bound method Series.mean of 4967    204895\n",
      "2588     75904\n",
      "1673     21415\n",
      "177      22265\n",
      "969      31278\n",
      "1325     24974\n",
      "3892     82260\n",
      "2839     74162\n",
      "671      57036\n",
      "3721      9993\n",
      "1004     42960\n",
      "516      46281\n",
      "4959    203012\n",
      "2772     33898\n",
      "2996     31787\n",
      "2625     22772\n",
      "2241     29335\n",
      "2900     68690\n",
      "3771     21051\n",
      "3659     68240\n",
      "3103    103431\n",
      "2167     47303\n",
      "406      58217\n",
      "2312     15861\n",
      "2814     46397\n",
      "4927     35761\n",
      "4756    120386\n",
      "1320     70679\n",
      "4557     17271\n",
      "3596     76245\n",
      "         ...  \n",
      "1533     14909\n",
      "3963     38930\n",
      "4862     46979\n",
      "1548      7976\n",
      "2849     20960\n",
      "246      40537\n",
      "4704     80415\n",
      "437      87742\n",
      "3574     10952\n",
      "430      92069\n",
      "145      13438\n",
      "2575    103225\n",
      "1926     95445\n",
      "1493     74121\n",
      "3382     50461\n",
      "4386     44195\n",
      "3155     46624\n",
      "1609     21142\n",
      "3261     37434\n",
      "3866     30243\n",
      "2227    115330\n",
      "683      23905\n",
      "4526     11478\n",
      "2823     56931\n",
      "3415     30524\n",
      "4573    113234\n",
      "4190     19184\n",
      "1922     24995\n",
      "505      11425\n",
      "4403     48769\n",
      "Name: Income, Length: 100, dtype: int64>\n",
      " <bound method Series.mean of 1047     36407\n",
      "2111     50860\n",
      "1751    123803\n",
      "2872     26257\n",
      "2394     29813\n",
      "1388     62706\n",
      "97       17736\n",
      "1469     74194\n",
      "1826     28138\n",
      "509     120872\n",
      "1156     30582\n",
      "2683      6120\n",
      "1387      6545\n",
      "2113     72679\n",
      "493      29023\n",
      "2142     15363\n",
      "4619     14550\n",
      "1347    118212\n",
      "3391    120063\n",
      "1622     55955\n",
      "1531     77014\n",
      "3574     10952\n",
      "2808    142086\n",
      "40      107063\n",
      "1465     20491\n",
      "2826     77964\n",
      "463     110544\n",
      "2378     55411\n",
      "2376     64404\n",
      "1185     23938\n",
      "         ...  \n",
      "1647     78977\n",
      "1775     63016\n",
      "1401     57847\n",
      "8        41293\n",
      "3408     65609\n",
      "337      36997\n",
      "2236     89212\n",
      "4032     25400\n",
      "2856     27479\n",
      "4763     18426\n",
      "942      48453\n",
      "4611     53653\n",
      "3746     66239\n",
      "4767     58323\n",
      "4208     52613\n",
      "1090     43090\n",
      "1172     45587\n",
      "2003     33405\n",
      "2942     72382\n",
      "4328     59609\n",
      "439      59730\n",
      "4862     46979\n",
      "2286    130331\n",
      "4057     20202\n",
      "3545     54149\n",
      "1420     24381\n",
      "202      32079\n",
      "3701      8360\n",
      "3101     12654\n",
      "1521    124412\n",
      "Name: Income, Length: 100, dtype: int64>]\n"
     ]
    }
   ],
   "source": [
    "print(np.array([income_sample_mean(dfIncome,100) for ii in range(5)]))"
   ]
  },
  {
   "cell_type": "markdown",
   "metadata": {},
   "source": [
    "**Part E**: Notice, that for a sample-size of $n$, our function is returning an estimator of the form \n",
    "\n",
    "$$\n",
    "\\bar{X} = \\frac{1}{n}\\sum_{k=1}^n X_k \n",
    "$$\n",
    "\n",
    "If we think of each $X_k$ as being an independent and identically distributed (i.i.d.) random variable that follows the population distribution, what can you say about the estimated mean $\\bar{X}$? "
   ]
  },
  {
   "cell_type": "code",
   "execution_count": null,
   "metadata": {
    "collapsed": true
   },
   "outputs": [],
   "source": []
  },
  {
   "cell_type": "markdown",
   "metadata": {},
   "source": [
    "**Part F**: If $\\bar{X}$ is a random variable then it too must have a distribution. We call the distribution of $\\bar{X}$ the **sample distribution**.  But what the heck does this distribution look like? \n",
    "\n",
    "Let's explore. \n",
    "\n",
    "One way that we could do this is to sample from the sample distribution by computing many **independent estimates** of the population mean and draw a histogram.  Complete the function income_sample_dist to draw at least 1000 estimates of the mean with a given sample size $n$ and then draw a histogram of the results. Start with a sample size of $n=5$ and then increase it to $n=50$, $n=500$, etc. Discuss your results with your neighbors. "
   ]
  },
  {
   "cell_type": "code",
   "execution_count": null,
   "metadata": {
    "collapsed": true
   },
   "outputs": [],
   "source": [
    "def income_sample_dist(df, n=5, num_means=1000):\n",
    "    means = # your code goes here! \n",
    "    fig, ax = plt.subplots(nrows=1, ncols=1, figsize=(12,6))\n",
    "    # and here!"
   ]
  },
  {
   "cell_type": "code",
   "execution_count": null,
   "metadata": {
    "collapsed": true
   },
   "outputs": [],
   "source": []
  },
  {
   "cell_type": "markdown",
   "metadata": {},
   "source": [
    "### Exercise 2 - Estimating Means of the Binomial Distributions\n",
    "*** \n",
    "\n",
    "The size of the sample that you have to draw before the estimator becomes approximately normally distributed depends on how non-normal the population distribution is.  In this exercise we'll look at the sample means of the Binomial distribution when $p=0.5$ (pretty normal) and $p=0.95$ (pretty non-normal). \n",
    "\n",
    "**Part A**: Draw at least $10000$ samples from the distribution $Bin(6,0.5)$ and $Bin(6,0.95)$ and make histograms with compatible axes-limits. "
   ]
  },
  {
   "cell_type": "code",
   "execution_count": null,
   "metadata": {
    "collapsed": true
   },
   "outputs": [],
   "source": []
  },
  {
   "cell_type": "markdown",
   "metadata": {},
   "source": [
    "**Part B**: We know from class that the expected value of $Bin(n,p)$ is $E[X] = np$.  Complete the function est_mean_bin below to draw estimates of the mean of $Bin(n,p)$ of a given sample size. Test your function by drawing several means with a sample size of your choice.  Do you get results that are fairly close to $E[X]$ for your given choice of parameter? "
   ]
  },
  {
   "cell_type": "code",
   "execution_count": null,
   "metadata": {
    "collapsed": true
   },
   "outputs": [],
   "source": [
    "def est_mean_bin(n=6, p=0.5, sample_size=5):\n",
    "\n",
    "    # your code goes here!\n",
    "    "
   ]
  },
  {
   "cell_type": "code",
   "execution_count": null,
   "metadata": {
    "collapsed": true
   },
   "outputs": [],
   "source": []
  },
  {
   "cell_type": "markdown",
   "metadata": {},
   "source": [
    "**Part C**: Complete the function sample_bin_dist that computes many independent estimates of the mean of $Bin(n,p)$ and plots their histogram.  Vary the size of the samples in each estimate.  How big does the sample size have to be for $Bin(6,0.5)$ before the sample distribution looks approximately normal? How big does the sample size have to be for $Bin(6,0.95)$ before the sample distribution looks approximately normal? "
   ]
  },
  {
   "cell_type": "code",
   "execution_count": null,
   "metadata": {
    "collapsed": true
   },
   "outputs": [],
   "source": [
    "def sample_bin_dist(n=6, p=0.5, sample_size=5, num_means=int(5e4)):\n",
    "    means = # your code goes here! \n",
    "    fig, ax = plt.subplots(nrows=1, ncols=1, figsize=(12,6))\n",
    "    # ... and here!"
   ]
  },
  {
   "cell_type": "markdown",
   "metadata": {},
   "source": [
    "### Exercise 3 - The CLT and Monte Carlo Simulation \n",
    "*** \n",
    "\n",
    "In this exercise we'll see how we can use the CLT to estimate how good our approximation from a simulation actually is. \n",
    "\n",
    "**Part A**: Let $X$ be a random variable taking on the face values of a $d$-sided die after a single roll.  If the die is fair, then $X$ follows a discrete uniform distribution of the form $\\textrm{unif}\\{1,d\\}$. Look up the mean and variance of $\\textrm{unif}\\{1,d\\}$ on [wiki](https://en.wikipedia.org/wiki/Discrete_uniform_distribution) and figure out the specific values of the mean and variance when $d=6$.  \n"
   ]
  },
  {
   "cell_type": "code",
   "execution_count": null,
   "metadata": {
    "collapsed": true
   },
   "outputs": [],
   "source": []
  },
  {
   "cell_type": "markdown",
   "metadata": {},
   "source": [
    "**Part B**: Write a function sim_die that takes as arguments integers $d$ representing the number of sides on the die and $n$ representing the number of iterations to run your simulation.  The function should return an estimate of the expected value of the die roll, as well as an array of the results of each of the $n$ rolls in the simulation. "
   ]
  },
  {
   "cell_type": "code",
   "execution_count": null,
   "metadata": {
    "collapsed": true
   },
   "outputs": [],
   "source": [
    "def sim_die(d=6, n=int(1e3)):\n",
    "    rolls = # your code goes here! \n",
    "    return np.mean(rolls), rolls"
   ]
  },
  {
   "cell_type": "markdown",
   "metadata": {},
   "source": [
    "**Part C**: Write a function running_est that takes in your rolls history from **Part B** and computes the running estimate of the expected value after each new sample in the simulation.  That is, your function should return an array $r$ such that \n",
    "\n",
    "$$\n",
    "r[i] = \\frac{\\textrm{Estimate after i samples}}{i} \\quad \\textrm{for }i=1,2,\\ldots,n\n",
    "$$"
   ]
  },
  {
   "cell_type": "code",
   "execution_count": null,
   "metadata": {
    "collapsed": true
   },
   "outputs": [],
   "source": [
    "def running_est(rolls):\n",
    "\n",
    "    # your code goes here!\n",
    "    "
   ]
  },
  {
   "cell_type": "markdown",
   "metadata": {},
   "source": [
    "**Part D**: Let $\\bar{X}_n$ the the random variable that estimates $E[X]$ using the first $n$ rolls of the simulation.  Based on the Central Limit Theorem, what distribution does the $\\bar{X}_n$ follow when $d=6$. \n"
   ]
  },
  {
   "cell_type": "code",
   "execution_count": null,
   "metadata": {
    "collapsed": true
   },
   "outputs": [],
   "source": []
  },
  {
   "cell_type": "markdown",
   "metadata": {},
   "source": [
    "**Part E**: Give an upper and lower bound for a region that $\\bar{X}_n$ will fall in with 95% probability when $d=6$ as a function of $n$. "
   ]
  },
  {
   "cell_type": "code",
   "execution_count": null,
   "metadata": {
    "collapsed": true
   },
   "outputs": [],
   "source": []
  },
  {
   "cell_type": "markdown",
   "metadata": {},
   "source": [
    "**Part F**: The following function takes the number of sides of the dice and your array of running estimates of the mean and plots the trajectory of the running estimate.  If you set the bounds flag to True it plots a shaded region enclosing the mean.  Currently the shaded region is a constant interval.  Your job in this part of the exercise is to modify the array err95 so that the shaded region depicts the 95% confidence interval around the mean of the estimator. \n",
    "\n",
    "**Note**: For bonus (non-existent) points, make your implementation general with respect to the number of sides on the dice."
   ]
  },
  {
   "cell_type": "code",
   "execution_count": null,
   "metadata": {
    "collapsed": true
   },
   "outputs": [],
   "source": [
    "def running_plot(d, r, bounds=False):\n",
    "    \n",
    "    fig, ax = plt.subplots(nrows=1, ncols=1, figsize=(12,5))\n",
    "    ax.plot(range(1,len(r)+1),r, color=\"steelblue\")\n",
    "    ax.grid(alpha=0.25)\n",
    "    ax.set_axisbelow(True)\n",
    "    ax.set_ylim([np.mean(range(1,d+1))-1.5, np.mean(range(1,d+1))+1.5])\n",
    "    ax.set_xlim([1,len(r)])\n",
    "    ax.set_xlabel(\"iteration\", fontsize=16)\n",
    "    ax.set_ylabel(\"estimate\", fontsize=16)\n",
    "    \n",
    "    mu = 3.5\n",
    "    var = np.nan\n",
    "    sd = np.nan \n",
    "    \n",
    "    if bounds: \n",
    "        err95 = np.ones(len(r))\n",
    "        ax.fill_between(range(1,len(r)+1), mu+err95, mu-err95, color=\"steelblue\", alpha=0.2)"
   ]
  },
  {
   "cell_type": "code",
   "execution_count": null,
   "metadata": {
    "collapsed": true
   },
   "outputs": [],
   "source": [
    "d=6\n",
    "x, rolls = sim_die(d=d, n=int(1e3))    \n",
    "r = running_est(rolls)\n",
    "running_plot(d,r,bounds=True)"
   ]
  },
  {
   "cell_type": "markdown",
   "metadata": {},
   "source": [
    "**Part G**: If you run your simulation enough times, you'll eventually get a case where the running estimate wanders outside of the shaded region.  How can you explain this? "
   ]
  },
  {
   "cell_type": "code",
   "execution_count": null,
   "metadata": {
    "collapsed": true
   },
   "outputs": [],
   "source": []
  },
  {
   "cell_type": "markdown",
   "metadata": {},
   "source": [
    "**Part F**: If you didn't make your bounds estimate general in **Part F**, go back and do so now.  Then run the experiment for dice with increasing number of sides.  What differences do you notice in the trajectory and confidence interval?  How can you explain the differences? "
   ]
  },
  {
   "cell_type": "code",
   "execution_count": null,
   "metadata": {
    "collapsed": true
   },
   "outputs": [],
   "source": []
  }
 ],
 "metadata": {
  "kernelspec": {
   "display_name": "Python 3",
   "language": "python",
   "name": "python3"
  },
  "language_info": {
   "codemirror_mode": {
    "name": "ipython",
    "version": 3
   },
   "file_extension": ".py",
   "mimetype": "text/x-python",
   "name": "python",
   "nbconvert_exporter": "python",
   "pygments_lexer": "ipython3",
   "version": "3.6.3"
  }
 },
 "nbformat": 4,
 "nbformat_minor": 2
}
