{
 "cells": [
  {
   "cell_type": "markdown",
   "metadata": {},
   "source": [
    "## Final Exam Questions\n",
    "### Ryan Wills"
   ]
  },
  {
   "cell_type": "markdown",
   "metadata": {},
   "source": [
    "## 1 "
   ]
  },
  {
   "cell_type": "markdown",
   "metadata": {},
   "source": [
    "## 2  \n",
    "(a) The biggest problem is that Malfoy's vector is in ascending order. Therefore, the algorithm would make change with the smallest values possible before moving to the larger ones. The vector should be in descending order.   \n",
    "\n",
    "(b) If the goblins eat all the nickels, leaving the coins as [1, 10, 25], then the greedy algorithm won't yield and optimal solution. The greedy algorithm would choose 25 + 5x1, which is 6 coins. The optimal method would be 3x10, which is 3 coins.  \n",
    "\n",
    "(c) This algorithm would always yield an optimal solution. When considering the types of coins we have, there are $c^0$ coins, or pennies, and coins that are some power of $c$. If the change needed is any value less than $c$, then you will always use pennies, but once the value becomes equal to $c$, then the pennies are replaced with a $c$ coin, reducing the total number of coins by $c-1$. Therefore, when the change is greater than $c$, you will use the largest $c^n$ coins when $n \\leq k$ before you use pennies, giving you the optimal solution."
   ]
  },
  {
   "cell_type": "markdown",
   "metadata": {},
   "source": [
    "## 3  \n",
    "(a)   \n",
    "    i. Player 1 finds the sum of all odd cards and even cards.  \n",
    "    ii. Whichever card sum is higher, player 1 chooses that.  \n",
    "    iii. If even is higher, choose card 2n. If odd is higher, choose card 1. If equal, choose odd.  \n",
    "    iv. Continue choosing until no cards remain.  \n",
    "    \n",
    "(b) If choosing odd cards gives player 1 the higher sum, then player 1 can choose only odd cards, forcing player 2 to choose only even cards. In order to accomplish this, player 1 chooses card 1. This forces player 2 to choose between card 2 and 2n, both even cards. Player 2 will use their greedy strategy, choosing the higher card. This will reveal either card 3 or card 2n-1, both of which are odd. This continues until player 1 wins. If even and odd sums are equal, then player 1 will do no worse then player 2.  \n",
    "\n",
    "(c) Simulation in .py file.  "
   ]
  },
  {
   "cell_type": "code",
   "execution_count": 13,
   "metadata": {
    "collapsed": true
   },
   "outputs": [],
   "source": [
    "import random\n",
    "import math\n",
    "import numpy as np"
   ]
  },
  {
   "cell_type": "code",
   "execution_count": 24,
   "metadata": {},
   "outputs": [
    {
     "name": "stdout",
     "output_type": "stream",
     "text": [
      "16\n",
      "[3, 9, 7, 4, 6, 7, 8, 9, 7, 8, 5, 10, 3, 10, 7, 1]\n",
      "46\n",
      "58\n",
      "True\n"
     ]
    }
   ],
   "source": [
    "#Problem 3, Pandas Peril Problem\n",
    "num_cards = 2*(random.randint(1,10)) #choose an even random number of cards\n",
    "card_row = []\n",
    "for i in range (num_cards): #for loop that sets up the row of cards\n",
    "    card_row.append(random.randint(1,10))\n",
    "\n",
    "even_sum = 0\n",
    "odd_sum = 0 \n",
    "for i in range (num_cards): #finds the sum of even and odd cards\n",
    "    if i % 2 == 0:\n",
    "        even_sum += card_row[i]\n",
    "    else:\n",
    "        odd_sum += card_row[i]\n",
    "if odd_sum >= even_sum: #boolean that reads true if oddsum is greater or equal to evensum\n",
    "    is_odd_greater = True\n",
    "else:\n",
    "    is_odd_greater = False\n",
    "   \n",
    "player1_hand = []\n",
    "player2_hand = []\n",
    "for i in range (num_cards): #for loop from 1 to cards where player1 chooses even or odd cards and player 2 takes whichever card is greater\n",
    "    if is_odd_greater == True:\n",
    "        player1_hand.append\n",
    "\n",
    "print(num_cards)\n",
    "print(card_row)\n",
    "print (even_sum)\n",
    "print(odd_sum)\n",
    "print (is_odd_greater)\n",
    "\n",
    "\n"
   ]
  },
  {
   "cell_type": "markdown",
   "metadata": {},
   "source": [
    "## 4"
   ]
  },
  {
   "cell_type": "markdown",
   "metadata": {},
   "source": [
    "## 5  \n",
    "Yes, in this case P=NP because Professor \"He-Who-Shall-Not-Be-Named\" has shown that his algorithm has polynomial time for an NP-Complete problem."
   ]
  },
  {
   "cell_type": "markdown",
   "metadata": {},
   "source": [
    "## 6"
   ]
  }
 ],
 "metadata": {
  "kernelspec": {
   "display_name": "Python 3",
   "language": "python",
   "name": "python3"
  },
  "language_info": {
   "codemirror_mode": {
    "name": "ipython",
    "version": 3
   },
   "file_extension": ".py",
   "mimetype": "text/x-python",
   "name": "python",
   "nbconvert_exporter": "python",
   "pygments_lexer": "ipython3",
   "version": "3.6.3"
  }
 },
 "nbformat": 4,
 "nbformat_minor": 2
}
