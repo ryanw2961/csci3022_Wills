{
 "cells": [
  {
   "cell_type": "markdown",
   "metadata": {},
   "source": [
    "## Problem Set 6\n",
    "### Ryan Wills"
   ]
  },
  {
   "cell_type": "markdown",
   "metadata": {},
   "source": [
    "#### Problem 1"
   ]
  },
  {
   "cell_type": "markdown",
   "metadata": {},
   "source": [
    "#### Problem 2\n",
    "a) The algorithm splits the balls into pairs so the pairs for the first round of comparisons are:   \n",
    "$B_1$ v $B_2$  \n",
    "$B_3$ v $B_4$  \n",
    "$B_5$ v $B_6$  \n",
    "$B_7$ v $B_8$  \n",
    "\n",
    "The heaviest balls of each comparison are $B_2, B_4, B_5, B_8$ respectively. The next comparisons are:  \n",
    "$B_2$ v $B_4$  \n",
    "$B_5$ v $B_8$  \n",
    "\n",
    "The heaviest ball of that set of comparisons are $B_2$ and $B_8$. The heavier of those balls is $B_2$, making it the heaviest ball.  \n",
    "\n",
    "b) The algorithm takes *n* balls. The first conparison is $\\frac{n}{2}$ comparisons, the second comparison is $\\frac{n}{4}$, the third is $\\frac{n}{8}$, etc, where the *i*th comparison is $\\frac{n}{2^i}$. This equates to $\\sum_{i=1}^{\\infty} \\frac{n}{2^i}$. Taking out $\\frac{n}{2}$ we end up with $\\frac{n}{2}$ times the geometric series $\\sum_{i=0}^{\\infty} \\frac{1}{2^i}$. That series equates to 2, and $\\frac{n}{2} * 2 = n$.  \n",
    "\n",
    "c) i. Take all the balls that were compared to the heaviest balls.  \n",
    "ii. Compare each ball against the other, doing $\\log_2 n$ comparisons.  \n",
    "iii. Whichever ball wins the most comparisons is the heaviest ball.  \n",
    "\n",
    "d) For these comparisons there is the comparisons of $B_1, B_4, B_8$  \n",
    "$B_1$ v $B_4$ $\\rightarrow B_1$  \n",
    "$B_4$ v $B_8$ $\\rightarrow B_8$  \n",
    "$B_1$ v $B_8$ $\\rightarrow B_8$  \n",
    "$B_8$ is the second heaviest ball.\n"
   ]
  },
  {
   "cell_type": "markdown",
   "metadata": {},
   "source": [
    "#### Problem 3  \n",
    "\n",
    "Taking an array of size n, where each element is k elements away from where it should be, this takes O(n log k) time. Using the sort function, i take a chunk of the array, sort it, and move through the array. This inner loop takes O(k) time. Multiplied, it takes O(nk log k) time. \n",
    "\n",
    "```python\n",
    "def almostKSort(A, n, k)\n",
    "    index = 0\n",
    "    for k+1 in i = n\n",
    "        sort(A, index, index+k+1)\n",
    "```"
   ]
  },
  {
   "cell_type": "markdown",
   "metadata": {},
   "source": [
    "#### Problem 4  \n",
    "Starting at the root, you compare the root with the children, and if the root is less than the children, it's the local min. If one of the children is less than the root, than at least one child is less than the root. Choosing the lesser child, we then compare it to its children. If it has none, it is the local min. If it has children and is smaller than them, it's the local min. If a child is smaller, we continue using the same method, until we get to a leaf, which is (log n) nodes down, ensuring that at most it searches (log n) nodes."
   ]
  },
  {
   "cell_type": "markdown",
   "metadata": {},
   "source": [
    "#### Problem 5  \n",
    "a)  \n",
    "b)  \n",
    "c)"
   ]
  }
 ],
 "metadata": {
  "kernelspec": {
   "display_name": "Python 3",
   "language": "python",
   "name": "python3"
  },
  "language_info": {
   "codemirror_mode": {
    "name": "ipython",
    "version": 3
   },
   "file_extension": ".py",
   "mimetype": "text/x-python",
   "name": "python",
   "nbconvert_exporter": "python",
   "pygments_lexer": "ipython3",
   "version": "3.6.3"
  }
 },
 "nbformat": 4,
 "nbformat_minor": 2
}
