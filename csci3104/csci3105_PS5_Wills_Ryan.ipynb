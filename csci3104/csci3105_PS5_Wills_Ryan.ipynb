{
 "cells": [
  {
   "cell_type": "markdown",
   "metadata": {},
   "source": [
    "## Problem Set 6"
   ]
  },
  {
   "cell_type": "markdown",
   "metadata": {},
   "source": [
    "### 1)  \n",
    "\n",
    "a) $T(n)=T(n-1)+cn$ if $n>1, T(1)=c$  \n",
    "       $=(T(n-2)+c(n-1))+cn$  \n",
    "       $=T(n-2)+2cn$  \n",
    "       $=T(n-i)+i(cn)$  \n",
    "If $i=n-1$ then $T(n)=T(n-(n-1))+(n-1)cn$   \n",
    "$=T(1)+cn^2-cn$ $T(1)=c$  \n",
    "The recurrance has the closed form of $T(n)=cn^2-cn+c$ and is bounded by $T(n)=\\Theta (n^2)$\n",
    "       \n",
    "b) $2T(n-1)+1$ if $n>1, T(1)=3$  \n",
    "$=2(2T(n-2)+1)+1$  \n",
    "$=(4T(n-2)+2)+1$  \n",
    "$=4T(n-2)+3$  \n",
    "$=4(2T(n-3)+1)+3$  \n",
    "$=(8T(n-3)+4)+3$  \n",
    "$=8T(n-3)+7$  \n",
    "$=2^iT(n-i)+(2^i-1)$  \n",
    "If $i=n-1$, then $T(n)=2^{n-1}T(n-(n-1))+(2^{n-1}-1)$  \n",
    "$=2^{n-1}T(1)+(2^{n-1}-1)$ $T(1)=3$  \n",
    "$=3(2^{n-1})+2^{n-1}-1$  \n",
    "$=4(2^{n-1}-1$ = $2^2(2^{n-1})-1$ = $2^{n-1+2}-1$ = $2^{n+1}-1$  \n",
    "The function has the closed form of $T(n)=2^{n+1}-1$ and is bounded by $T(n)=\\Theta (2^n)$\n",
    "\n",
    "c) $T(n)=T(\\frac{n}{2})+3$ if $n>1, T(1)=2$  \n",
    "$=(T(\\frac{n}{4})+3)+3=T(\\frac{n}{4})+6$  \n",
    "$=T(\\frac{n}{8})+3+6=T(\\frac{n}{8})+9$  \n",
    "$=T(\\frac{n}{2^i})+i(3)$  \n",
    "$i=\\log_2 n$  \n",
    "$T(n)=T(\\frac{n}{2^{\\log_2 n}})+3(\\log_2 n)$\n",
    "$=T(1)+3(\\log_2 n)=2+3\\log_2 n$  \n",
    "The recurrence has the closed form of $T(n)=3\\log_2 n+2$ and is bounded by $T(n)=\\Theta (\\log_2 n)$\n",
    "\n",
    "d) $T(n)=T(n-1)+2^n$ if $n>1, T(1)=2$  \n",
    "$=(T(n-2)+2^n)+2^n$  \n",
    "$=T(n-2)+2(2^n)$  \n",
    "$=T(n-2)+2^{n+1}$  \n",
    "$=(T(n-3)+2^n)+2^{n+1}$  \n",
    "$=T(n-3)+2^{n+2}$  \n",
    "$=T(n-i)+2^{n+(i-1)}$  \n",
    "$i=n-1$  \n",
    "$T(n)=T(n-(n-1))+2^{n+((n-1)-1)}$  \n",
    "$=T(1)+2^{2n-2}=2+2^{2(n-1)}$  \n",
    "The recurrence has the closed form of $T(n)=2^{2(n-1)}+2$ and is bounded by $T(n)=\\Theta (2^n)$\n",
    "\n",
    "e) $T(n)=T(\\sqrt{n})+1$ if $n>2, T(n)=0$ otherwise  \n",
    "$=T(n^{\\frac{1}{2}})+1$  \n",
    "$=(T(n^{\\frac{1}{4}})+1)+1$  \n",
    "$=T(n^{\\frac{1}{4}})+2$  \n",
    "$=T(n^{\\frac{1}{8}})+3$  \n",
    "$=T(n^{\\frac{1}{2^i}})+i$  \n",
    "Since *n*>2, $n^{\\frac{1}{2^i}}<2$  \n",
    "$=\\frac{1}{2^i}\\log n < \\log 2 = 1$  \n",
    "$=\\log n < 2^i$  \n",
    "$=\\log (\\log n) < i$  \n",
    "The closed form of $T(n) =\\log (\\log n)$ so the bound is $T(n)=\\Theta (\\log (\\log n))$"
   ]
  },
  {
   "cell_type": "markdown",
   "metadata": {},
   "source": [
    "### 2  \n",
    "\n",
    "$T(n) = 2T(\\frac{n}{4})+2$  \n",
    "\n",
    "Using the Master method, with *a*=2, *b*=4, and *f(n)*=$n^0$, then it would be case 1, where $T(n)=\\Theta (n^{\\log_4 2})$"
   ]
  },
  {
   "cell_type": "markdown",
   "metadata": {},
   "source": [
    "### 3  \n",
    "\n",
    "a)  \n",
    "```` \n",
    "    left=0  \n",
    "    right=n  \n",
    "    findMin(A, left, right)  \n",
    "       if (0 == n - 1)  \n",
    "          return A[0]  \n",
    "       else  \n",
    "          min1 = findMin(A, left, (left+right)/2)  \n",
    "          min2 = findMin(A, (left+right)/2, right)  \n",
    "\n",
    "      if (min1 > min2) \n",
    "         return min1 \n",
    "      else \n",
    "         return min2```` \n",
    "\n",
    "b) \n",
    "**Base case:** n=1, an array containing one element, would return just that element.  \n",
    "**Inductive step:** If the algorithm works for an array of length *n*, it will work for an array of length*n*+1. We know that from (0,i] is descending and [i,n) is ascending. Since the algorithm works on arrays of size *n*, they will work on size *n*+1.  \n",
    "c)  \n",
    "d)"
   ]
  }
 ],
 "metadata": {
  "kernelspec": {
   "display_name": "Python 3",
   "language": "python",
   "name": "python3"
  },
  "language_info": {
   "codemirror_mode": {
    "name": "ipython",
    "version": 3
   },
   "file_extension": ".py",
   "mimetype": "text/x-python",
   "name": "python",
   "nbconvert_exporter": "python",
   "pygments_lexer": "ipython3",
   "version": "3.6.3"
  }
 },
 "nbformat": 4,
 "nbformat_minor": 2
}
