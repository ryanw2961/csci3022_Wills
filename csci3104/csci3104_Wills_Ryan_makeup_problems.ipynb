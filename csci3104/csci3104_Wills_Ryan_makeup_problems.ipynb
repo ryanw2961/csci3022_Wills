{
 "cells": [
  {
   "cell_type": "markdown",
   "metadata": {},
   "source": [
    "## Problem Set Makeup  \n",
    "### Ryan Wills"
   ]
  },
  {
   "cell_type": "markdown",
   "metadata": {},
   "source": [
    "### 1.  \n",
    "a) First, I initialize `min` to the first element and then iterate through the sequence. If an element is less then the current `min`, that element becomes the new `min`.\n",
    "````\n",
    "set min to array[0]\n",
    "   for i = 1 to array length - 1\n",
    "     if array[i] < min \n",
    "     then set min to array[i]\n",
    "print min\n",
    "```   \n",
    "\n",
    "b) **Loop Invariant:** At the start of the iteration with index i of the loop, the variable answer should contain the minimum of the numbers from the subarray A[0:i].\n",
    "\n",
    "**Initialization:** At the start of the first loop, we have i=1. Therefore the loop invariant states: \"At the start of the iteration with index i of the loop, the variable answer should contain the minimum of the numbers from the subarray A[0:1], which is A[0].\" This is what answer has been set to.\n",
    "\n",
    "**Maintenance:** Assume that the loop invariant holds at the start of iteration  i. Then it must be that answer contains the minimum of numbers in subarray  A[0:i] . There are two cases: (1)  A[i]  < answer. From the loop invariant we get that  A[i]  is less than the minimum of the numbers in  A[0:i] . Thus,  A[i]  is the minimum of  A[0:i+1] . In this case, the algorithm sets answer to  A[i] , thus in this case the loop invariant holds again at the beginning of the next loop. (2)  A[i]   $\\geq$  answer. That is, the minimum in  A[0:i]  is at least as small as  A[i] , thus the minimum of  A[0:i+1]  is the same as the minimum of  A[0:i] . The algorithm also doesn't change answer, thus in this case the loop invariant holds again at the beginning of the next loop.\n",
    "\n",
    "**Termination:** When the for-loop terminates  i=(n−1)+1=n . Now the loop invariant gives: The variable answer contains the minimum of all numbers in subarray  A[0:n]=A . This is exactly the value that the algorithm should output, and which it then outputs. Therefore the algorithm is correct.  "
   ]
  },
  {
   "cell_type": "markdown",
   "metadata": {},
   "source": [
    "### 2.  \n",
    "My original idea for this algorithm was to merge the two arrays, resulting in an array containing $2n$ elements. Then, knowing that the median values would be in the middle of this array, take the elements at indexes $n-1$ and the $n$, and average them. However, this would take $O(n)$ time, which is too slow. To make it faster, I would have to be able to calculate the median without merging the arrays.  \n",
    "\n",
    "Therefore, the best way solve this problem would be to find and compare the medians of arrays A and B. My psuedocode is below:  \n",
    "\n",
    "i) Calculate the medians medium_A and medium_B of the input arrays A[] and B[].  \n",
    "   \n",
    "ii) If medium_A and medium_B both are equal then we are done.\n",
    "     return medium_A (or medium_B)  \n",
    "\n",
    "iii) If medium_A is greater than medium_B, then median is present in one of the below two subarrays.  \n",
    "    a)  From first element of A to medium_A (A[0...|_n/2_|])  \n",
    "    b)  From medium_B to last element of B (B[|_n/2_|...n-1])  \n",
    "\n",
    "iv) If medium_B is greater than medium_A, then median is present in one of the below two subarrays.  \n",
    "   a)  From medium_A to last element of A (A[|_n/2_|...n-1])  \n",
    "   b)  From first element of B to medium_B (B[0...|_n/2_|])  \n",
    "\n",
    "v) Repeat until size of both the subarrays becomes 2.  \n",
    "\n",
    "vi) If size of the two arrays is 2 then use below formula to get \n",
    "  the median.  \n",
    "    Median = (max(A[0], B[0]) + min(A[1], B[1]))/2  \n",
    "\n",
    "Since this algorithm uses a divide and conquer technique, the run time is $O(log n)$ "
   ]
  },
  {
   "cell_type": "markdown",
   "metadata": {},
   "source": [
    "### 3.  \n",
    "\n",
    "a) This claim is true becuase $n+1 < n^4$ for all *n*, but a more accurate claim would be $n+1 = O(n)$  \n",
    "\n",
    "b) This claim is false. The correct asympotic relationship would be $\\Omega(2^n)$ because $2^n < 2^{2n}$  \n",
    "\n",
    "c) This claim is true because $\\lim{n\\to\\infty} \\frac{2^n}{2^{n+7}} = 0.008$, which is a constant. Since the limit is a constant, then the bound would be $\\Theta$.  \n",
    "\n",
    "d) This claim is false. The correct asymptotic relationship would be $\\Omega(1/n)$ because $1 \\leq 1/n$ for all *n*.  \n",
    "\n",
    "e) This claim is true because $\\lim{n\\to\\infty} \\frac{\\ln^2 n}{\\log^2 n} = \\frac{1}{\\ln^2 n}$. Since this is a constant, the claim is true.  \n",
    "\n",
    "f) This claim is false. Since the $\\lim{n\\to\\infty} \\frac{n^2+2n-4}{n^2} = 1$ then the correct asymptotic relationship would be $n^2+2n-4 = \\Theta(n^2)$  \n",
    "\n",
    "g) This claim is false. $3^{3n} = 27^n > 9^n$ therefore, the correct asymptotic relationship would be $\\Omega$.  \n",
    "\n",
    "h) This claim is false. Asympotically, $2^{n\\log n}$ grows faster than $2^{n+1}$ because the $\\lim{n\\to\\infty} \\frac{2^{n+1}}{2^{n\\log n}} = 0$. Therefore, the correct asympototic relationship would be $\\Omega$.  \n",
    "\n",
    "i) This claim is false. Since the $\\lim{n\\to\\infty} \\frac{\\sqrt n}{\\log n} = \\infty$ then that means that $\\sqrt n$ grows faster than $\\log n$ and therefore the asmptotic relationship should be $\\Omega$.  \n",
    "\n",
    "j) This statement is correct because $10^100$ is a constant, so therefore would have constant asymptotic run time. \n"
   ]
  },
  {
   "cell_type": "markdown",
   "metadata": {},
   "source": [
    "### 4.  \n",
    "a.  \n",
    "a-1111110  \n",
    "b-1111111  \n",
    "c-111110  \n",
    "d-11110  \n",
    "e-1110  \n",
    "f-110  \n",
    "g-10  \n",
    "h-0 \n",
    "\n",
    "b. To generalize for the first *n* Fibonacci numbers, the sum of the first *n*-2 Fibonacci numbers is $F_n - 1$ where $F_n$ denotes the *n*th Fibonacci number.  \n",
    "$\\displaystyle \\sum_{i=0}^{n-2} F_i = F_n - 1$"
   ]
  },
  {
   "cell_type": "markdown",
   "metadata": {},
   "source": [
    "### 5. \n",
    "\n",
    "a. The running time of this algorithm is bounded by $\\Omega(n^3)$ since the outer for-loop goes n times $(\\Omega(n))$, the inner for-loop goes up to n times (and an average of n/2 times) for each iteration of the outer loop (another $\\Omega(n))$, and then adding up the array entries is $\\Omega(n)$ time inside the loops, so the total time is $\\Omega(n^3)$  \n",
    "$\\sum_{i=1}^{n} \\sum_{j=i+1}{n} Sum(A[i...j])$  \n",
    "$\\displaystyle g = ((n) + (n-1) + (n-2) + ... + 1)Sum(A[i...j]$  \n",
    "$\\displaystyle g = \\frac{n(n+1)}{2} \\frac{n}{2}$  \n",
    "$\\displaystyle g = \\frac{n^2+n}{2} \\frac{n}{2}$  \n",
    "$\\displaystyle g = \\frac{n^2+n}{2} \\frac{n}{2}$  \n",
    "$\\displaystyle g = \\frac{n^3 + n^2}{4}$  \n",
    "$\\displaystyle Cn^3 \\leq \\frac{n^3 + n^2}{4}$, if C = 1/4 we get the true statement of $\\displaystyle \\frac{n^3}{4} \\leq \\frac{n^3 + n^2}{4}$ therefore, g is $\\Omega(n^3)$  \n",
    "\n",
    "b. For this problem, using the function $g = \\frac{n^3+n^2}{4}$ and the function $f = n^3$ with f representing the runtime of our function. By taking the limit as n approaches infinity of $\\frac{f(n)}{g(n)}$, if we get a constant, then this would show the asymptotically tight bound of $\\Theta g(n)$  \n",
    "\n",
    "$\\displaystyle \\lim_{n\\to\\infty} \\frac{f(n)}{g(n)}$  \n",
    "\n",
    "$\\displaystyle \\lim_{n\\to\\infty} \\frac{n^3}{\\frac{n^3 + n^2}{4}}$  \n",
    "\n",
    "Use L'Hopital's Rule to reduce numerator and denominator.  \n",
    "$\\displaystyle \\lim_{n\\to\\infty} \\frac{3n^2}{\\frac{3n^2 + 2n}{4}}$  \n",
    "\n",
    "$\\displaystyle \\lim_{n\\to\\infty} \\frac{6n}{\\frac{6n + 2}{4}}$  \n",
    "\n",
    "$\\displaystyle \\lim_{n\\to\\infty} \\frac{6}{\\frac{6}{4}} = 4$  \n",
    "Since the limit grows at a constant rate, then that means that f(n) and g(n) are relatively equal, showing that $\\Theta (n^3)$ is the asymptotically tight bound of the algorithm.  \n",
    "\n",
    "c.  \n",
    "``def betterDumbledore(A):\n",
    "sum = 0\n",
    "for i = 1 to n:\n",
    "  sum = A[i]\n",
    "  for j = i+1 to n:\n",
    "    sum += A[j]\n",
    "    B[i,j] = sum``  \n",
    "    \n",
    "For each iteration of the outet loop we start by setting the variable sum to A[i] in each iteration of i.  Then, for each iteration of j, store the current sum of A[i] to A[j] each time, so for each \"new\" j = j+1, all you have to do to add A[j] to the current sum, since the value of sum is A[i] + A[i+1] + ... + A[j-2] + A[j-1] from the previous iteration, so adding A[j] to the sum will give the desired sum A[i] + A[i+1] + .... + A[j]. The operation of adding A[j] to the current sum can be done in constant time, so each step of the inner loop has constant time.  The total number of iterations of the inner loop is (1/2)n^2 - (1/2)n, so the total running time is O(n^2)."
   ]
  },
  {
   "cell_type": "markdown",
   "metadata": {},
   "source": [
    "### 6.  \n",
    "\n",
    "To find such a graph, we simply need to think how BFS tree edges come about: once a node is discovered, we will not have another tree edge to that node. So to provide a directed graph tree edge set that cannot be produced by running BFS, we simply need multiple paths to given nodes, and choose paths based on different starting points. One such graph is such:\n",
    "\n",
    "``\n",
    "(A)------->(B)\n",
    " /\\   \\     /\\\n",
    " |     \\   /\n",
    " |       \\/\n",
    " |       / \\\n",
    " |      /  \\/\n",
    "(C)-->(D)--->(E)\n",
    "``\n",
    "\n",
    "The path that cannot be found from a DFS would be {(C,A),(A,B),(C,D),(D,E)}.\n"
   ]
  },
  {
   "cell_type": "markdown",
   "metadata": {},
   "source": [
    "### 7. \n",
    "\n",
    "- Start at A[1,1]. \n",
    "- If current entry a[i,j] = 0 then j = j + 1 (take one step right); if a[i,j] = 1 then i = i +1 (take one step down). \n",
    "- In this way, it will stop at an entry a*n*k of the last row or a*n*k of the last column (n = |V|, 1 ≦ k ≦|V|). \n",
    "- Check if vertex k satisfies the definition of black hole (check for kth row to contain V zeros and kth column to contain k-1 1s, because the column in adjacency matrix defines in degree of a vertex) \n",
    "- if yes then return \"yes\" \n",
    "- if no then return \"no\" \n",
    "\n",
    "Since we always make a step right or down, and checking if a vertex is a universal sink can be done in O(V), the total running time is O(V)."
   ]
  },
  {
   "cell_type": "markdown",
   "metadata": {},
   "source": [
    "### 8.  \n",
    "Compute the transitive closure as an adjacency matrix, TC[i,j]. assume that each vertex v has a unique identification number:  \n",
    "``id(v) ∈ {0.1.2….|V|-1}\n",
    "for each vertex u\n",
    "  perform BFS with u as the root\n",
    "  for each vertex v discovered in the search, \n",
    "  set TC[id(u),id(v)] = 1\n",
    "return TC`` . \n",
    "\n",
    "The worst case is a search can traverse every edge in the graph. Hence, the total time complexity of this algorithm is O(VE)."
   ]
  },
  {
   "cell_type": "markdown",
   "metadata": {},
   "source": [
    "### 9.   \n",
    "The minimum depth occurs for the path that always takes the smaller portion of the split, i.e., the nodes that takes α proportion of work from the parent node. The first node in the path (after the root) gets $\\alpha$ proportion of the work(the size of data processed by this node is $\\alpha n$, the second one get $\\alpha^2$ so on. The recursion bottoms out when the size of data becomes 1. Assume the recursion ends at level h, we have  \n",
    "$\\alpha^hn$ = 1  \n",
    "h = $\\displaystyle \\log_\\alpha 1/n = \\frac{\\log (1/n)}{\\log \\alpha} = \\frac{-\\log n}{\\log \\alpha}$  \n",
    "\n",
    "Maximum depth m is similar with minimum depth  \n",
    "$(1 − \\alpha)^mn = 1$  \n",
    "$\\displaystyle m = \\log_{1−\\alpha} 1/n = \\frac{\\log(1/n)}{\\log (1-\\alpha)} = \\frac{−\\log n}{\\log(1 − \\alpha)}$"
   ]
  },
  {
   "cell_type": "markdown",
   "metadata": {},
   "source": [
    "### 10.   \n",
    "master theorem\n",
    "a. T(n) = $\\Theta \\log n$ (case 2)  \n",
    "b. T(n) = $\\Theta n \\log n$ (case 3)  \n",
    "c. T(n) = $\\Theta 2^n$ (case 3)   \n",
    "d. Master Theorem doesn't apply  \n",
    "e. T(n) = $\\Theta n^{\\log_{42}^{100}}$  "
   ]
  },
  {
   "cell_type": "markdown",
   "metadata": {},
   "source": [
    "### 11. \n",
    "$42, (n^{1/\\lg n}) < (\\sqrt2)^{\\lg n} < n, 2^{\\lg n} < n \\lg n, \\lg(n!) < n^2 < (\\lg n)! < (\\frac{3}{2})^n < e^n$ "
   ]
  },
  {
   "cell_type": "markdown",
   "metadata": {},
   "source": [
    "### 12. "
   ]
  },
  {
   "cell_type": "markdown",
   "metadata": {},
   "source": [
    "### 13. "
   ]
  },
  {
   "cell_type": "markdown",
   "metadata": {},
   "source": [
    "### 14. "
   ]
  }
 ],
 "metadata": {
  "kernelspec": {
   "display_name": "Python 3",
   "language": "python",
   "name": "python3"
  },
  "language_info": {
   "codemirror_mode": {
    "name": "ipython",
    "version": 3
   },
   "file_extension": ".py",
   "mimetype": "text/x-python",
   "name": "python",
   "nbconvert_exporter": "python",
   "pygments_lexer": "ipython3",
   "version": "3.6.3"
  }
 },
 "nbformat": 4,
 "nbformat_minor": 2
}
