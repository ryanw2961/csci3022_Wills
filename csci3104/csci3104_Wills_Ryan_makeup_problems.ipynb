{
 "cells": [
  {
   "cell_type": "markdown",
   "metadata": {},
   "source": [
    "## Problem Set Makeup  \n",
    "### Ryan Wills"
   ]
  },
  {
   "cell_type": "markdown",
   "metadata": {},
   "source": [
    "### 1.  \n",
    "a) First, I initialize `min` to the first element and then iterate through the sequence. If an element is less then the current `min`, that element becomes the new `min`.\n",
    "````\n",
    "set min to array[0]\n",
    "   for i = 1 to array length - 1\n",
    "     if array[i] < min \n",
    "     then set min to array[i]\n",
    "print min\n",
    "```   \n",
    "\n",
    "b) **Loop Invariant:** At the start of the iteration with index i of the loop, the variable answer should contain the minimum of the numbers from the subarray A[0:i].\n",
    "\n",
    "**Initialization:** At the start of the first loop, we have i=1. Therefore the loop invariant states: \"At the start of the iteration with index i of the loop, the variable answer should contain the minimum of the numbers from the subarray A[0:1], which is A[0].\" This is what answer has been set to.\n",
    "\n",
    "**Maintenance:** Assume that the loop invariant holds at the start of iteration  i. Then it must be that answer contains the minimum of numbers in subarray  A[0:i] . There are two cases: (1)  A[i]  < answer. From the loop invariant we get that  A[i]  is less than the minimum of the numbers in  A[0:i] . Thus,  A[i]  is the minimum of  A[0:i+1] . In this case, the algorithm sets answer to  A[i] , thus in this case the loop invariant holds again at the beginning of the next loop. (2)  A[i]   $\\geq$  answer. That is, the minimum in  A[0:i]  is at least as small as  A[i] , thus the minimum of  A[0:i+1]  is the same as the minimum of  A[0:i] . The algorithm also doesn't change answer, thus in this case the loop invariant holds again at the beginning of the next loop.\n",
    "\n",
    "**Termination:** When the for-loop terminates  i=(n−1)+1=n . Now the loop invariant gives: The variable answer contains the minimum of all numbers in subarray  A[0:n]=A . This is exactly the value that the algorithm should output, and which it then outputs. Therefore the algorithm is correct.  "
   ]
  },
  {
   "cell_type": "markdown",
   "metadata": {},
   "source": [
    "### 2.  \n",
    "\n"
   ]
  },
  {
   "cell_type": "markdown",
   "metadata": {},
   "source": [
    "### 3.  \n",
    "a.  \n",
    "b.  \n",
    "c.  \n",
    "d.  \n",
    "e.  \n",
    "f.  \n",
    "g.  \n",
    "h.  \n",
    "i.  \n",
    "j.  \n"
   ]
  },
  {
   "cell_type": "markdown",
   "metadata": {},
   "source": [
    "### 4.  "
   ]
  },
  {
   "cell_type": "markdown",
   "metadata": {},
   "source": [
    "### 5. "
   ]
  },
  {
   "cell_type": "markdown",
   "metadata": {},
   "source": [
    "### 6. "
   ]
  },
  {
   "cell_type": "markdown",
   "metadata": {},
   "source": [
    "### 7. "
   ]
  },
  {
   "cell_type": "markdown",
   "metadata": {},
   "source": [
    "### 8. "
   ]
  },
  {
   "cell_type": "markdown",
   "metadata": {},
   "source": [
    "### 9. "
   ]
  },
  {
   "cell_type": "markdown",
   "metadata": {},
   "source": [
    "### 10. "
   ]
  },
  {
   "cell_type": "markdown",
   "metadata": {},
   "source": [
    "### 11. "
   ]
  },
  {
   "cell_type": "markdown",
   "metadata": {},
   "source": [
    "### 12. "
   ]
  },
  {
   "cell_type": "markdown",
   "metadata": {},
   "source": [
    "### 13. "
   ]
  },
  {
   "cell_type": "markdown",
   "metadata": {},
   "source": [
    "### 14. "
   ]
  }
 ],
 "metadata": {
  "kernelspec": {
   "display_name": "Python 3",
   "language": "python",
   "name": "python3"
  },
  "language_info": {
   "codemirror_mode": {
    "name": "ipython",
    "version": 3
   },
   "file_extension": ".py",
   "mimetype": "text/x-python",
   "name": "python",
   "nbconvert_exporter": "python",
   "pygments_lexer": "ipython3",
   "version": "3.6.3"
  }
 },
 "nbformat": 4,
 "nbformat_minor": 2
}
