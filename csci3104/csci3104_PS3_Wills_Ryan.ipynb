{
 "cells": [
  {
   "cell_type": "markdown",
   "metadata": {},
   "source": [
    "## Asignment 3                          \n",
    "### Ryan Wills\n",
    "***\n"
   ]
  },
  {
   "cell_type": "markdown",
   "metadata": {},
   "source": [
    "### 1.\n",
    "charging_algorithm\n",
    "\n",
    "O = 0 //O is the optimal solution      \n",
    "*last* = 0 //last is the last charging station the drone stops at      \n",
    "for i = 1 to n  \n",
    "    if (*l*<sub>i</sub> - *last*) > *k*         \n",
    "        O = O \\cup {*l*<sub>i - 1</sub>}  \n",
    "        *last* = *t*<sub>i - 1</sub>}  \n",
    "The algorithm is an O(*n*) algorithm."
   ]
  },
  {
   "cell_type": "markdown",
   "metadata": {},
   "source": [
    "**Greedy Choice Property**: Let *O* be an optimal solution. Suppose the drone stops at locations *l*<sub>1</sub>, *l*<sub>2</sub>,..., *l*<sub>n</sub> where *l*<sub>i</sub> is the location of the charging station. If *n* is the first stop made by the algorithm above, then we have shown that there is an optimal solution with the first stop at n. If *l*<sub>1</sub> = n, then *O* is a solution. If *l*<sub>l</sub> != n, then since the algorithm stops at the last possible charging station then *l*<sub>l</sub> must be less than n. Since *O* is optimal and the distance between n and *l*<sub>2</sub> is less than or equal to the distance between *l*<sub>1</sub> and *l*<sub>2</sub>, then there is enough charge to get from n to *l*<sub>2</sub>. "
   ]
  },
  {
   "cell_type": "markdown",
   "metadata": {},
   "source": [
    "**Optimal Substructure Property:** Let *O* be the optimal solution and *P* be the original problem. After stopping at charging station n at distance *l*<sub>i</sub> then the problem that is left, *P*' is *l*<sub>i+1</sub>, ..., *l*<sub>n</sub>. *O*' is the optimal solution to *P*'. Since cost(*O*) = cost(*O*') + 1, then it must be the case that *P* includes an optimal solution *P*'."
   ]
  },
  {
   "cell_type": "markdown",
   "metadata": {},
   "source": [
    "## 2 \n",
    "a) If the schools were ordered differently, for example 1[1,4], 2[3,6], 3[5,8], 4[7,10], 5[9,12], 6[11,14]. Optimal would be to show the ads at [3,4], [7,8], and [11,12] which is only 3 ads. But this algorithm might choose to show at [5,6] and [9,10], which don't show to schools 1 and 6, resulting in 4 ads.\n",
    "\n",
    "b) \n",
    "\n",
    "c) \n",
    "\n",
    "d) "
   ]
  },
  {
   "cell_type": "markdown",
   "metadata": {},
   "source": [
    "## 3\n",
    "\n",
    "smallest_max_weight(G, *l*)\n",
    "*S* = (*s*)  //S equals set of explored nodes  \n",
    "*d*(*s*) = 0 //for each *u* $\\in$ *S*, we store distance *d*(*u*)  \n",
    "temp = 0 . //temp will store the distance *d*(*u*) temporarily  \n",
    "max_weight = 0  \n",
    "While *S* $\\neq$ *V*  \n",
    "    temp = *d*(*s*)  \n",
    "    if temp $\\geq$ max_weight  \n",
    "        temp = max_weight\n",
    "    Add *v* to *S* and define *d*(*v*) = *d*'(*v*)  \n",
    "return max_weight"
   ]
  },
  {
   "cell_type": "markdown",
   "metadata": {},
   "source": [
    "## 4\n",
    "\n",
    "**Kruskal's Algorithm**\n",
    "1. A-C = 1\n",
    "2. E-G = 2\n",
    "3. C-D = 3\n",
    "4. D-E = 4\n",
    "5. A-B = 6\n",
    "6. G-F = 7\n",
    "\n",
    "**Prim's Algorithm**  \n",
    "(A, C, D, E, G, F)"
   ]
  }
 ],
 "metadata": {
  "kernelspec": {
   "display_name": "Python 3",
   "language": "python",
   "name": "python3"
  },
  "language_info": {
   "codemirror_mode": {
    "name": "ipython",
    "version": 3
   },
   "file_extension": ".py",
   "mimetype": "text/x-python",
   "name": "python",
   "nbconvert_exporter": "python",
   "pygments_lexer": "ipython3",
   "version": "3.6.3"
  }
 },
 "nbformat": 4,
 "nbformat_minor": 2
}
