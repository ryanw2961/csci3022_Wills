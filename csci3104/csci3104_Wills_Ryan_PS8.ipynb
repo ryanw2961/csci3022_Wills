{
 "cells": [
  {
   "cell_type": "markdown",
   "metadata": {},
   "source": [
    "## Problem Set 8\n",
    "### Ryan Wills"
   ]
  },
  {
   "cell_type": "markdown",
   "metadata": {},
   "source": [
    "### Problem 1\n",
    "Since we start at 14, there are 0 ways to get from 14 to 14. From nodes 13 down to 11, there is only one edge needed to get to 14. For the remaining nodes, one can find the number of paths needed by adding the number of paths needed by the nodes it is directly pointing to. For example, node 10 takes the sum of paths needed by nodes 11 and 13, so 2 paths.\n",
    "\n",
    "|Nodes|Paths to 14|\n",
    "|:---:|:---:|\n",
    "|14|0|\n",
    "|13|1|\n",
    "|12|1|\n",
    "|11|1|\n",
    "|10|2|\n",
    "|9|3|\n",
    "|8|3|\n",
    "|7|3|\n",
    "|6|1|\n",
    "|5|3|\n",
    "|4|5|\n",
    "|3|11|\n",
    "|2|17|\n",
    "|1|20|\n",
    "\n"
   ]
  },
  {
   "cell_type": "markdown",
   "metadata": {},
   "source": [
    "### Problem 2 \n",
    "\n",
    "**a**)  \n",
    "**i**)  ``\n",
    "   def fibonacci(n):\n",
    "      if n==0 or n==1:\n",
    "         return 1\n",
    "      else:\n",
    "         return fibonacci(n-1) + fibonacci(n-2)``  \n",
    "**ii**)$T(n)=T(n-1) + T(n-2)$\n",
    "\n",
    "$\\geq 2T(n-2)$\n",
    "\n",
    "$\\geq ...$\n",
    "\n",
    "$\\geq 2^k T(n-2k) + (2^{k-1} + 2^{k-2} + ... + 2 + 1) = \\Theta(2^{n})$\n",
    "\n",
    "The reason this runtime is so bad is becuase this algorithm computes $T(n-2)$ two times, $T(n-3)$ three times, etc, which ends up taking a long time because it has to recalculate each sequential Fibonacci number.\n",
    "\n",
    "**b**)  \n",
    "**i**)  ``\n",
    "fibArray = []\n",
    "fibArray[0] = 1\n",
    "fibArray[1] = 1\n",
    "   def fibonacci(n):\n",
    "      if n in fibArray:\n",
    "         return fibArray{n}\n",
    "       else:\n",
    "         fib = fibonacci(n-1) + fibonacci(n-2)\n",
    "         fibArray[n] = fib\n",
    "         return fib ``  \n",
    "**ii**) In terms of a recursion tree, the lower nodes are computed and stored in ``fibArray`` when they are called upon during recursion, which greatly reduces the runtime, since these nodes do not have to be re-calculated.  \n",
    "**iii**) The asymptotic runtime of the algorithm ends up being $\\Theta(n)$ because the running time of an algorithm of length *n* ends up being at most the amount of time it would take to fill ``fibarray`` of length *n*. We can see this if we use the base case of $n = 0$ or $n = 1$, in which the answer is 1. \n",
    "\n",
    "**c**)  \n",
    "**i**)  ``def bottumUpFib(n):\n",
    "   fibAnswers = []\n",
    "   fibAnswers[0] = 1\n",
    "   fibAnswers[1] = 1\n",
    "   while len(fibAnswers) <= n:\n",
    "     fibAnswers.append(fibAnswers[-1] + fibAnswers[-2])\n",
    "   return fibAnswers[n]``  \n",
    "**ii**) Like the top-dow n impementation, the bottom-up implementation runs in time $\\Theta(n)$ because when calculating $F_n$, the bottom-up implementation will build a table of length *n* and return the last item of the table. Therefore, the runtime is $\\Theta(n)$ and it takes up space $\\Theta(n)$.\n",
    "\n",
    "**d**)``def iterativeFib(n):\n",
    "   fibAnswers = []\n",
    "   fibAnswers[0] = 1\n",
    "   fibAnswers[1] = 1\n",
    "   for i = 0 to n:\n",
    "     currentFib = (fibAnswers[(i-1) %2] + fibAnswers[(i-2) %2])\n",
    "     fibAnswers[i %2] = currentFib\n",
    "   return fibAnswers[n %2]``  \n",
    "The space in this array will always remain constant at 2 spaces because the algorithm will continuously replace the elements in the array with the next elements it needs. Since the for loop runs from 0 to *n*, the algorithm will have a runtime of $\\Theta(n)$.\n",
    "\n",
    "**e**)\n",
    "\n",
    "| Algorithm Type | Asymptotic Time | Space Requirement | Data Structure |\n",
    "|---|:---:|:---:|:---:|\n",
    "|Recursive|$\\Theta(2^n)$|$\\Theta(n)$|Array(stack)|\n",
    "|Top-Down|$\\Theta(n)$|$\\Theta(n)$|Array|\n",
    "|Bottom-Up|$\\Theta(n)$|$\\Theta(n)$|Array|\n",
    "|Iterative|$\\Theta(n)$|$\\Theta(1)$|Array|\n",
    "\n",
    "\n",
    "**f**)I implemented the iterative algorithm below and used my four-digit birthday $n=1018$ and the first five digits of $f_n = 40636$. In order to see how long it too my algorithm from (2a), I had to use an online calculator to find $2^{1018}$ which was a massivly large number. I then copied that number and pasted it into an online converter which calculated that it would take my algorithm from (2a) approximately 9 years to find $F_{1018}$. Comparatively, my algorithm from (2d) takes about 1018 nanoseconds or 1.018 microseconds.  \n"
   ]
  },
  {
   "cell_type": "code",
   "execution_count": 11,
   "metadata": {},
   "outputs": [],
   "source": [
    "def iterativeFib(n):\n",
    "   fibAnswers = []\n",
    "   fibAnswers.append(1)\n",
    "   fibAnswers.append(1)\n",
    "   for i in range (0,n):\n",
    "     currentFib = (fibAnswers[(i-1) %2] + fibAnswers[(i-2) %2])\n",
    "     fibAnswers[i %2] = currentFib\n",
    "   return fibAnswers[n %2]"
   ]
  },
  {
   "cell_type": "code",
   "execution_count": 15,
   "metadata": {},
   "outputs": [
    {
     "data": {
      "text/plain": [
       "406368852464505180380912356153809398662954971962704542156843896136755578891161729381705970643531075015172948608799377296998849022799299217733815718080660004348521102456483958294453413801284640583350081835557450681"
      ]
     },
     "execution_count": 15,
     "metadata": {},
     "output_type": "execute_result"
    }
   ],
   "source": [
    "iterativeFib(1018)"
   ]
  }
 ],
 "metadata": {
  "kernelspec": {
   "display_name": "Python 3",
   "language": "python",
   "name": "python3"
  },
  "language_info": {
   "codemirror_mode": {
    "name": "ipython",
    "version": 3
   },
   "file_extension": ".py",
   "mimetype": "text/x-python",
   "name": "python",
   "nbconvert_exporter": "python",
   "pygments_lexer": "ipython3",
   "version": "3.6.3"
  }
 },
 "nbformat": 4,
 "nbformat_minor": 2
}
