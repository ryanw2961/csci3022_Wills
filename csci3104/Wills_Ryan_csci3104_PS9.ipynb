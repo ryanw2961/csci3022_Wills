{
 "cells": [
  {
   "cell_type": "markdown",
   "metadata": {
    "collapsed": true
   },
   "source": [
    "## Problem Set 9\n",
    "### Ryan Wills"
   ]
  },
  {
   "cell_type": "code",
   "execution_count": 29,
   "metadata": {
    "collapsed": true
   },
   "outputs": [],
   "source": [
    "import numpy as np\n",
    "import random"
   ]
  },
  {
   "cell_type": "code",
   "execution_count": 30,
   "metadata": {
    "collapsed": true
   },
   "outputs": [],
   "source": [
    "x = ['STEP']\n",
    "y = ['APE']"
   ]
  },
  {
   "cell_type": "code",
   "execution_count": 31,
   "metadata": {
    "collapsed": true
   },
   "outputs": [],
   "source": [
    "def optimalOp(S, i, j, x, y):\n",
    "    \n",
    "    #initialize costs from the homework\n",
    "    swapCost = 5\n",
    "    subCost = 3\n",
    "    insertCost = 1\n",
    "    deleteCost = 1\n",
    "    \n",
    "    #initialize lists to hold all the possible alignment/edit operations\n",
    "    opList = []\n",
    "    valueList = []\n",
    "    \n",
    "\n",
    "    insertValue = S[i][j - 1]\n",
    "    valueList.append(insertValue)\n",
    "    #coming from the top\n",
    "    #deleteValue = S[i][j - 1]\n",
    "    deleteValue = S[i - 1][j]\n",
    "    valueList.append(deleteValue)\n",
    "    #coming from the diagonal\n",
    "    subValue = S[i - 1][j - 1]\n",
    "    valueList.append(subValue)\n",
    "            \n",
    "    if (subValue + subCost == S[i][j]):\n",
    "        opList.append(\"sub\")\n",
    "    \n",
    "    if (insertValue + insertCost == S[i][j]):\n",
    "        opList.append(\"insert\")\n",
    "    \n",
    "    if (deleteValue + deleteCost == S[i][j]):\n",
    "        opList.append(\"delete\")\n",
    "\n",
    "    #check if a swap was possible\n",
    "    if (i >= 2 and j >= 2):\n",
    "        \n",
    "        #check the possible sub costs\n",
    "        possibleSubs = list(set(x[j - 2:j]) & set(y[i - 2:i]))\n",
    "        \n",
    "        subCost = (2 - len(possibleSubs)) * 3\n",
    "        swap = S[i-2][j-2]\n",
    "        if (swap + swapCost+ subCost == S[i][j]):\n",
    "            print(\"adding a swap\")\n",
    "            opList.append(\"swap\")\n",
    "            \n",
    "        \n",
    "    if len(opList) == 0:\n",
    "        return \"no-op\"\n",
    "    \n",
    "    #randomly choose an element from the list if more than 1 is in there\n",
    "    return random.choice(opList)\n"
   ]
  },
  {
   "cell_type": "code",
   "execution_count": 32,
   "metadata": {},
   "outputs": [],
   "source": [
    "def alignStrings(x,y):\n",
    "    nX = len(x)\n",
    "    nY = len(y)\n",
    "    \n",
    "    S = [[nX+1],[nY+1]] # for memoizing the subproblem costs\n",
    "    S[0] = list(np.arange(nX))\n",
    "    S[1] = list(np.arange(nY))            # fill in the base cases\n",
    "    \n",
    "    for i in range (1, nX):\n",
    "        row = S[i]\n",
    "        \n",
    "        for j in range (1, nY):\n",
    "            \n",
    "            if (x[i - 1] == y[i - 1]):\n",
    "                \n",
    "                diagonal = S[j - 1][i  - 1]\n",
    "                row[j] = diagonal\n",
    "                \n",
    "            #characters don't match so find the min from the top/left/diagonal\n",
    "            else:\n",
    "                \n",
    "                diagonalValue = S[i - 1][j  - 1] + 3\n",
    "               \n",
    "                topValue = S[i - 1][j] + 1\n",
    "               \n",
    "                leftValue = row[j - 1] + 1\n",
    "                \n",
    "                #check to see if you can calculate swap value\n",
    "                if i >= 2 and j >= 2:\n",
    "                    #use python sets to see which characters you have in common:\n",
    "                    commonChar = list(set(x[j - 2:j]) & set(y[i - 2:i]))\n",
    "                    \n",
    "                    subCost = (2 - len(commonChar)) * 3\n",
    "                   \n",
    "                    swapValue = S[i - 2][j - 2] + 5 + subCost\n",
    "                    minCost = min(topValue, leftValue, diagonalValue, swapValue)\n",
    "                    \n",
    "                    row[columnIndex] = minCost\n",
    "                    \n",
    "                \n",
    "                else:\n",
    "                    minCost = min(topValue, leftValue, diagonalValue)\n",
    "                   \n",
    "                    row[i] = minCost       \n",
    "        \n",
    "    return S"
   ]
  },
  {
   "cell_type": "code",
   "execution_count": 33,
   "metadata": {
    "collapsed": true
   },
   "outputs": [],
   "source": [
    "def updateIndices(i, j, a):\n",
    "    #the last alignment operation added to the list is the one I want to use to move to the next cell\n",
    "    operation = a[-1]\n",
    "    \n",
    "    if operation == \"insert\":\n",
    "        j -= 1\n",
    "        return (i),(j)\n",
    "    \n",
    "    elif operation == \"delete\":\n",
    "        i -= 1\n",
    "        return (i),(j)\n",
    "    \n",
    "    elif operation == \"no-op\" or operation == \"sub\":\n",
    "        i -= 1\n",
    "        j -= 1\n",
    "        return (i),(j)\n",
    "    \n",
    "    else:\n",
    "        i -= 2\n",
    "        j -= 2\n",
    "        return (i),(j)"
   ]
  },
  {
   "cell_type": "code",
   "execution_count": 34,
   "metadata": {
    "collapsed": true
   },
   "outputs": [],
   "source": [
    "def extractAlignment(S, x, y):\n",
    "    #empty list of operations\n",
    "    editOpList = []\n",
    "    \n",
    "    #set position to lower right corner\n",
    "    i = len(y)\n",
    "    j = len(x)\n",
    "    startPosition = S[i][j]\n",
    "    \n",
    "    while (i > 0 or j > 0):\n",
    "        editOpList.append(optimalOp(S, i, j, x, y))\n",
    "        i,j = updateIndices(i, j, editOpList)\n",
    "        currentPosition = S[i][j]\n",
    "        \n",
    "    return editOpList"
   ]
  },
  {
   "cell_type": "code",
   "execution_count": 35,
   "metadata": {},
   "outputs": [],
   "source": [
    "def commonSubstrings(stringToTransform, L, editList):\n",
    "    \n",
    "    #have to reverse my list of edit operations\n",
    "    a.reverse()\n",
    "    #store the substrings in the list\n",
    "    substrings = []\n",
    "    #string variable to concatenate all possible no-op substrings\n",
    "    tempSubstring = \"\"\n",
    "        \n",
    "    #loop through all the edit operations\n",
    "    for eachLetter in range(len(a)):\n",
    "        #delete in one string corresponds to an insert in the other\n",
    "        if (a[eachLetter] == 'delete'):\n",
    "            #need to add a gap into my string or else I'll index out of range\n",
    "            x = x[:eachLetter] + \"_\" + x[eachLetter:]\n",
    "            \n",
    "            #check if the substring is large enough to be considered\n",
    "            if len(tempSubstring) >= L:\n",
    "                substrings.append(tempSubstring)\n",
    "            \n",
    "            #clearing the substring variable\n",
    "            tempSubstring = ''\n",
    "            \n",
    "        #if no-op then I pulled from the diagonal\n",
    "        if (a[eachLetter] == 'no-op'):\n",
    "            #concatentate my string\n",
    "            tempSubstring += x[eachLetter]               \n",
    "    \n",
    "        #if not a no-op then I need to end my substring --> make sure to clear it from previous values\n",
    "        else:\n",
    "            #check if the substring is large enough to be considered\n",
    "            if len(tempSubstring) >= L:\n",
    "                substrings.append(tempSubstring)\n",
    "            #clearing the substring variable\n",
    "            tempSubstring = ''\n",
    "            \n",
    "    #need to check one last time in case it ends on a no-op\n",
    "    if (len(tempSubstring) >= L):\n",
    "        substrings.append(tempSubstring)\n",
    "            \n",
    "    return(substrings)"
   ]
  },
  {
   "cell_type": "code",
   "execution_count": null,
   "metadata": {
    "collapsed": true
   },
   "outputs": [],
   "source": []
  }
 ],
 "metadata": {
  "kernelspec": {
   "display_name": "Python 3",
   "language": "python",
   "name": "python3"
  },
  "language_info": {
   "codemirror_mode": {
    "name": "ipython",
    "version": 3
   },
   "file_extension": ".py",
   "mimetype": "text/x-python",
   "name": "python",
   "nbconvert_exporter": "python",
   "pygments_lexer": "ipython3",
   "version": "3.6.3"
  }
 },
 "nbformat": 4,
 "nbformat_minor": 2
}
