{
 "cells": [
  {
   "cell_type": "markdown",
   "metadata": {},
   "source": [
    "## Problem Set 7\n",
    "### Ryan Wills"
   ]
  },
  {
   "cell_type": "markdown",
   "metadata": {},
   "source": [
    "### Problem 1"
   ]
  },
  {
   "cell_type": "markdown",
   "metadata": {},
   "source": [
    "#### a)  \n",
    "For my algorithm, I will use merge sort as a frame because it has a worst case runtime of nLog(n) and in order to sort an array, it only makes a switch if a pair of numbers are a \"reverse.\" Therefore, the number of \"reverses\" are counted each and every time I merge two sorted sub-arrays. All I had to do was slightly modify a merge sort algorithm to count the number of reverses.\n",
    "\n",
    "Psuedocode:  \n",
    "i. Split the array  \n",
    "ii. When adding items from the split arrays into sorted array, keep track of elements from a[i] that are bigger than b[j], that indicates if an element is a reversal.  \n",
    "iii. return total number of reversals"
   ]
  },
  {
   "cell_type": "markdown",
   "metadata": {},
   "source": [
    "#### b)  \n",
    "Python impemented below"
   ]
  },
  {
   "cell_type": "code",
   "execution_count": 60,
   "metadata": {},
   "outputs": [],
   "source": [
    "count = 0\n",
    "def countReverses(arr):\n",
    "    global count\n",
    "    mid = len(arr) / 2\n",
    "    left = arr[:int(mid)]\n",
    "    right = arr[int(mid):]\n",
    "    if len(arr) > 1:\n",
    "        countReverses(left)\n",
    "        countReverses(right)\n",
    "        i = 0\n",
    "        j = 0\n",
    "        a = left\n",
    "        b = right\n",
    "        for k in range(len(a) + len(b) + 1):\n",
    "            if a[i] <= b[j]:\n",
    "                arr[k] = a[i]\n",
    "                i += 1\n",
    "                if i == len(a) and j != len(b):\n",
    "                    while j != len(b):\n",
    "                        k +=1\n",
    "                        arr[k] = b[j]\n",
    "                        j += 1\n",
    "                    break\n",
    "            elif a[i] > b[j]:\n",
    "                arr[k] = b[j]\n",
    "                count += (len(a) - i)\n",
    "                j += 1\n",
    "                if j == len(b) and i != len(a):\n",
    "                    while i != len(a):\n",
    "                        k+= 1\n",
    "                        arr[k] = a[i]\n",
    "                        i += 1                    \n",
    "                    break   \n",
    "    return count"
   ]
  },
  {
   "cell_type": "code",
   "execution_count": 61,
   "metadata": {},
   "outputs": [
    {
     "name": "stdout",
     "output_type": "stream",
     "text": [
      "[66 65 70 70 44]\n"
     ]
    },
    {
     "data": {
      "text/plain": [
       "5"
      ]
     },
     "execution_count": 61,
     "metadata": {},
     "output_type": "execute_result"
    }
   ],
   "source": [
    "import numpy as np\n",
    "randomNums = np.random.randint(1,101,5)\n",
    "print(randomNums)\n",
    "countReverses(randomNums)"
   ]
  },
  {
   "cell_type": "code",
   "execution_count": 71,
   "metadata": {
    "collapsed": true
   },
   "outputs": [],
   "source": [
    "def reverseCount(arr, n): \n",
    "    revCount = 0\n",
    "    for i in range(n): \n",
    "        for j in range(i + 1, n): \n",
    "            if (arr[i] > arr[j]): \n",
    "                revCount += 1\n",
    "  \n",
    "    return revCount "
   ]
  },
  {
   "cell_type": "code",
   "execution_count": 72,
   "metadata": {},
   "outputs": [
    {
     "data": {
      "text/plain": [
       "5"
      ]
     },
     "execution_count": 72,
     "metadata": {},
     "output_type": "execute_result"
    }
   ],
   "source": [
    "x = [66, 65, 70, 70, 44]\n",
    "reverseCount(x,5)"
   ]
  },
  {
   "cell_type": "markdown",
   "metadata": {},
   "source": [
    "#### c)\n",
    "Looking at the above array, I can hand count the number of reverses, (66,65), (66,44), (65,44), (70,44), and the other (70,44). Since the output is exactly what is expected using both a brute force method and my other algorithm, I can assume when running an array of 100 elements, that the number of reverses would be correct."
   ]
  },
  {
   "cell_type": "code",
   "execution_count": 57,
   "metadata": {},
   "outputs": [
    {
     "data": {
      "text/plain": [
       "188"
      ]
     },
     "execution_count": 57,
     "metadata": {},
     "output_type": "execute_result"
    }
   ],
   "source": [
    "newRandomNums = np.random.randint(1,101,100)\n",
    "countReverses(newRandomNums)"
   ]
  },
  {
   "cell_type": "markdown",
   "metadata": {},
   "source": [
    "### Problem 2"
   ]
  },
  {
   "cell_type": "code",
   "execution_count": 68,
   "metadata": {
    "collapsed": true
   },
   "outputs": [],
   "source": [
    "import networkx as nx\n",
    "def Question5():#create a directed graph\n",
    "    G = nx.DiGraph()#adding an edge also adds the node\n",
    "    G.add_edge('Spider', 'A', weight=1.0)\n",
    "    G.add_edge('Spider', 'H', weight=1.0)\n",
    "    G.add_edge('Spider', 'J', weight=1.0)\n",
    "    \n",
    "    G.add_edge('H', 'G', weight=1.0)\n",
    "    G.add_edge('H', 'K', weight=1.0)\n",
    "    \n",
    "    G.add_edge('G', 'L', weight=1.0)\n",
    "    G.add_edge('G', 'F', weight=1.0)\n",
    "    \n",
    "    G.add_edge('F', 'E', weight=1.0)\n",
    "    \n",
    "    G.add_edge('E', 'Fly', weight=1.0)\n",
    "    \n",
    "    G.add_edge('J', 'S', weight=1.0)\n",
    "    G.add_edge('J', 'K', weight=1.0)\n",
    "    \n",
    "    G.add_edge('K', 'L', weight=1.0)\n",
    "    G.add_edge('L', 'M', weight=1.0)\n",
    "    G.add_edge('M', 'N', weight=1.0)\n",
    "    G.add_edge('M', 'F', weight=1.0)\n",
    "    \n",
    "    G.add_edge('N', 'O', weight=1.0)\n",
    "    G.add_edge('N', 'E', weight=1.0)\n",
    "    \n",
    "    G.add_edge('O', 'Fly', weight=1.0)\n",
    "    \n",
    "    G.add_edge('A', 'S', weight=1.0)\n",
    "    G.add_edge('A', 'B', weight=1.0)\n",
    "    \n",
    "    G.add_edge('B', 'R', weight=1.0)\n",
    "    G.add_edge('B', 'C', weight=1.0)\n",
    "    \n",
    "    G.add_edge('S', 'R', weight=1.0)\n",
    "    G.add_edge('R', 'Q', weight=1.0)\n",
    "    \n",
    "    G.add_edge('Q', 'C', weight=1.0)\n",
    "    G.add_edge('Q', 'P', weight=1.0)\n",
    "    \n",
    "    G.add_edge('C', 'D', weight=1.0)\n",
    "    G.add_edge('D', 'Fly', weight=1.0)\n",
    "    G.add_edge('P', 'D', weight=1.0)\n",
    "    G.add_edge('P', 'O', weight=1.0)\n",
    "    G.add_edge('O', 'Fly', weight=1.0)\n",
    "    \n",
    "    G.add_edge('T', 'Q', weight=1.0)\n",
    "    G.add_edge('T', 'P', weight=1.0)\n",
    "    G.add_edge('T', 'O', weight=1.0)\n",
    "    G.add_edge('T', 'N', weight=1.0)\n",
    "    G.add_edge('T', 'M', weight=1.0)\n",
    "    \n",
    "    G.add_edge('R', 'T', weight=1.0)\n",
    "    G.add_edge('S', 'T', weight=1.0)\n",
    "    G.add_edge('J', 'T', weight=1.0)\n",
    "    G.add_edge('K', 'T', weight=1.0)\n",
    "    G.add_edge('L', 'T', weight=1.0) "
   ]
  },
  {
   "cell_type": "code",
   "execution_count": 69,
   "metadata": {},
   "outputs": [
    {
     "ename": "NameError",
     "evalue": "name 'G' is not defined",
     "output_type": "error",
     "traceback": [
      "\u001b[0;31m---------------------------------------------------------------------------\u001b[0m",
      "\u001b[0;31mNameError\u001b[0m                                 Traceback (most recent call last)",
      "\u001b[0;32m<ipython-input-69-717a755c541d>\u001b[0m in \u001b[0;36m<module>\u001b[0;34m()\u001b[0m\n\u001b[1;32m      1\u001b[0m \u001b[0;31m#each edge has a weight of 1. The shortest path is the fewest edges.\u001b[0m\u001b[0;34m\u001b[0m\u001b[0;34m\u001b[0m\u001b[0m\n\u001b[1;32m      2\u001b[0m \u001b[0;31m#Use this to verify that your graph built correctly.\u001b[0m\u001b[0;34m\u001b[0m\u001b[0;34m\u001b[0m\u001b[0m\n\u001b[0;32m----> 3\u001b[0;31m \u001b[0mt\u001b[0m \u001b[0;34m=\u001b[0m \u001b[0mnx\u001b[0m\u001b[0;34m.\u001b[0m\u001b[0mshortest_path\u001b[0m\u001b[0;34m(\u001b[0m\u001b[0mG\u001b[0m\u001b[0;34m,\u001b[0m \u001b[0;34m'Spider'\u001b[0m\u001b[0;34m,\u001b[0m \u001b[0;34m'Fly'\u001b[0m\u001b[0;34m,\u001b[0m \u001b[0mweight\u001b[0m\u001b[0;34m=\u001b[0m\u001b[0;34m'weight'\u001b[0m\u001b[0;34m)\u001b[0m\u001b[0;34m\u001b[0m\u001b[0m\n\u001b[0m\u001b[1;32m      4\u001b[0m \u001b[0mprint\u001b[0m\u001b[0;34m(\u001b[0m\u001b[0mt\u001b[0m\u001b[0;34m)\u001b[0m\u001b[0;34m\u001b[0m\u001b[0m\n\u001b[1;32m      5\u001b[0m \u001b[0;32mdef\u001b[0m \u001b[0mmain\u001b[0m\u001b[0;34m(\u001b[0m\u001b[0;34m)\u001b[0m\u001b[0;34m:\u001b[0m\u001b[0;34m\u001b[0m\u001b[0m\n",
      "\u001b[0;31mNameError\u001b[0m: name 'G' is not defined"
     ]
    }
   ],
   "source": [
    "#each edge has a weight of 1. The shortest path is the fewest edges.\n",
    "#Use this to verify that your graph built correctly.\n",
    "t = nx.shortest_path(G, 'Spider', 'Fly', weight='weight')\n",
    "print(t)\n",
    "def main():\n",
    "    Question3()\n",
    "    Question5()\n",
    "        \n",
    "if __name__ == \"__main__\":\n",
    "    main()"
   ]
  },
  {
   "cell_type": "markdown",
   "metadata": {},
   "source": [
    "#### a) \n"
   ]
  },
  {
   "cell_type": "code",
   "execution_count": null,
   "metadata": {
    "collapsed": true
   },
   "outputs": [],
   "source": []
  }
 ],
 "metadata": {
  "kernelspec": {
   "display_name": "Python 3",
   "language": "python",
   "name": "python3"
  },
  "language_info": {
   "codemirror_mode": {
    "name": "ipython",
    "version": 3
   },
   "file_extension": ".py",
   "mimetype": "text/x-python",
   "name": "python",
   "nbconvert_exporter": "python",
   "pygments_lexer": "ipython3",
   "version": "3.6.3"
  }
 },
 "nbformat": 4,
 "nbformat_minor": 2
}
