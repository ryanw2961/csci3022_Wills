{
 "cells": [
  {
   "cell_type": "markdown",
   "metadata": {},
   "source": [
    "## Problem Set 4\n",
    "### Ryan Wills"
   ]
  },
  {
   "cell_type": "markdown",
   "metadata": {},
   "source": [
    "### Problem 1 \n",
    "Both algoriths are equally good. According to the book, when finding a clustering of maximum spacing, the graph-growing procedure is exactly the same as Kruskal's algorithm, but stopping when there are *k* connected components. It goes on to say that in other words, it would be the same as finding an MST, like Prim's would, then deleting the *k*-1 most expensive edges. So according to the textbook, they are equally good."
   ]
  },
  {
   "cell_type": "markdown",
   "metadata": {},
   "source": [
    "### Problem 2\n",
    "a) Based off of the Lucas Numbers, the cooresponding frequencies of the letters are as follows:  \n",
    "a = 2  \n",
    "b = 1  \n",
    "c = 3  \n",
    "d = 4  \n",
    "e = 7  \n",
    "f = 11  \n",
    "g = 18  \n",
    "h = 29  \n",
    "i = 47  \n",
    "After creating my Huffman tree, the code is as follows:  \n",
    "a = 00000000  \n",
    "b = 00000001  \n",
    "c = 0000001  \n",
    "d = 000001  \n",
    "e = 00001  \n",
    "f = 0001  \n",
    "g = 001  \n",
    "h = 01   \n",
    "i = 1  "
   ]
  },
  {
   "cell_type": "markdown",
   "metadata": {},
   "source": [
    "### Problem 3\n",
    "The algorithm will look at the path from *u* to *v* and if any vertex from *u* to *v* has a weight larger than the new edge, *T* isn't a minimum spanning tree anymore. If the largest weighted edge is removed and replaced with the new edge, it will become a new minimum spanning tree."
   ]
  },
  {
   "cell_type": "markdown",
   "metadata": {},
   "source": [
    "### Problem 4"
   ]
  },
  {
   "cell_type": "markdown",
   "metadata": {},
   "source": [
    "### Problem 5"
   ]
  }
 ],
 "metadata": {
  "kernelspec": {
   "display_name": "Python 3",
   "language": "python",
   "name": "python3"
  },
  "language_info": {
   "codemirror_mode": {
    "name": "ipython",
    "version": 3
   },
   "file_extension": ".py",
   "mimetype": "text/x-python",
   "name": "python",
   "nbconvert_exporter": "python",
   "pygments_lexer": "ipython3",
   "version": "3.6.3"
  }
 },
 "nbformat": 4,
 "nbformat_minor": 2
}
