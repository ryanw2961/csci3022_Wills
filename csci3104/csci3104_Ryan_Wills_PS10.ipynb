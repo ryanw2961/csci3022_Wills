{
 "cells": [
  {
   "cell_type": "markdown",
   "metadata": {},
   "source": [
    "## Problem Set 10\n",
    "### Ryan Wills"
   ]
  },
  {
   "cell_type": "markdown",
   "metadata": {},
   "source": [
    "#### Problem 1\n",
    "\n",
    "According to section 8.7 in Algorithm Design, a graph is 2-colorable if and only if it is bipartite. So in order to determine whether a graph is bipartite or not, we can use a breadth-first search. This search starts at a parent, coloring it red for example. It then colors the children another color like blue. It colors the nodes connected to the children red, alternating through the graph. If at any time a node of one color connects to a node of the same color, that means it has formed an odd cycle and the graph is not bipartite. This algorithm runs in *O(n+m*) time where *n* is the number of nodes and *m* is the number of edges. (Graph examples are at the bottom).\n",
    "\n",
    "````\n",
    "def is_two_color(G):\n",
    "    Start at first vertex, color it red\n",
    "    Color the vertices connected to that vertex (the children) blue\n",
    "        If the parent is blue, color children red\n",
    "        If the parent is red, color children blue\n",
    "    If a child of a parent is already colored, check the color\n",
    "        If a different color than a parent, no worries\n",
    "        If the same color as the parent, then the graph contains an odd cycle an is not 2-colorable.\n",
    "````\n",
    "  "
   ]
  },
  {
   "cell_type": "markdown",
   "metadata": {},
   "source": [
    "#### Problem 2\n",
    "\n",
    "2a) In order for Ginny to verify path P she should start with an empty array and add the first vertex from P, $P_1$ to the array. She should then add the other vertices, starting from the vertex $P_2$. Before adding another vertex, she should check for whether it is adjacent to the previously added vertex and has not already been added. If she finds such a vertex, then she knows that vertex is part of the solution. If she does not find a vertex then that path is not a Hamiltonian cycle. She knows she has a Hamiltonian cycle when she reaches the first vertex, $P_1$.\n",
    "\n",
    "2b) One way for Ginny to do this is to start with the graph *G* and ask the Oracle if the graph is a cycle. If yes, she is done. If not, she then removes the edge between vertex 0 and 1. She again asks if the graph is a cycle. If yes, keep that edge removed, if not, put that edge back. Continue in this fashion with all edges, until a Hamiltonian cycle is found. If the graph contains *e* edges, she will remove the first edge leaving the graph with *e-1* edges, then *e-2* edges, and so on until a Hamiltonian cycle is found or not. Therefore, in order to find a Hamiltonian cycle will take at most *O(e)* time which is polynomial. "
   ]
  },
  {
   "cell_type": "markdown",
   "metadata": {},
   "source": [
    "#### Problem 3\n",
    "\n",
    "3a) We can verify the witness *w* in *P*, i.e. $O(n^k)$ for some constant *k*. If the witness is $O(log n)$ bits to check, then verifying the witness should take sublinear time, and sublinear time is a subset of polynomial time. So the relationship $|w| = O(log n)$ impies that the problem must be in NP, since it takes subpolynomial time to verify.   \n",
    "\n",
    "3b) The reason that brute force algorithm takes exponential time is that a brute force algorithm enumerates through all possibilities. For example, sorting is in NP. If we have a list of *n* objects, sorting that list with a brute force algorithm would enumerate through the list, taking *O(n!)* time. Then we would have to verify the solutions, and checking the answers takes *O(n)* time. Therefore the total time taken would be *O(n!(n))* time which is exponential.\n"
   ]
  }
 ],
 "metadata": {
  "kernelspec": {
   "display_name": "Python 3",
   "language": "python",
   "name": "python3"
  },
  "language_info": {
   "codemirror_mode": {
    "name": "ipython",
    "version": 3
   },
   "file_extension": ".py",
   "mimetype": "text/x-python",
   "name": "python",
   "nbconvert_exporter": "python",
   "pygments_lexer": "ipython3",
   "version": "3.6.3"
  }
 },
 "nbformat": 4,
 "nbformat_minor": 2
}
